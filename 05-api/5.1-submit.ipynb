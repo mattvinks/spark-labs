{
 "cells": [
  {
   "cell_type": "markdown",
   "metadata": {},
   "source": [
    "<link rel='stylesheet' href='../assets/css/main.css'/>\n",
    "\n",
    "[<< back to main index](../README.md)\n",
    "\n",
    "----\n",
    "\n",
    "\n",
    "# Lab 5.1 First Spark Job Submission\n",
    "\n",
    "\n",
    "### Overview\n",
    "Submit a job for Spark\n",
    "\n",
    "### Depends On \n",
    "None\n",
    "\n",
    "### Run time\n",
    "20-30 mins\n",
    "\n"
   ]
  },
  {
   "cell_type": "markdown",
   "metadata": {},
   "source": [
    "## STEP 1: Edit source file\n",
    "\n",
    "- Edit this file [~/spark-labs/05-api/python/processfiles.py](python/processfiles.py)\n",
    "   - (Recommended) Open this file from Jupyter file browser\n",
    "   - or edit in terminal using vi / nano editors\n",
    "- And fix the TODO items"
   ]
  },
  {
   "cell_type": "markdown",
   "metadata": {},
   "source": [
    " ## STEP 2: Test Application in Local Master Mode\n",
    "\n",
    "Login to the node via SSH.  And then follow these steps in terminal.\n",
    "\n",
    "```bash\n",
    "    $  cd  ~/spark-labs/05-api\n",
    "    $  export PYSPARK_PYTHON=python3\n",
    "\n",
    "    $  ~/spark/bin/spark-submit  --master local[*]  python/processfiles.py    README.md\n",
    "```\n",
    "\n",
    "**==> Checkout the Shell UI (4040)**   \n",
    "\n",
    "**==> Hit Enter key to terminate the program**\n",
    "\n"
   ]
  },
  {
   "cell_type": "markdown",
   "metadata": {},
   "source": [
    "## Step 3 : Turn off Logs\n",
    "**==> Turn off the logs by sending logs by `2> logs`**\n",
    "\n",
    "```bash\n",
    "    $   ~/spark/bin/spark-submit  --master local[*]  python/processfiles.py    README.md  2> logs\n",
    "```"
   ]
  },
  {
   "cell_type": "markdown",
   "metadata": {},
   "source": [
    "## Step 4 : Try a few input files\n",
    "\n",
    "```bash\n",
    "    $   ~/spark/bin/spark-submit  --master local[*]  python/processfiles.py   ~/data/text/twinkle/*  2> logs\n",
    "```"
   ]
  },
  {
   "cell_type": "markdown",
   "metadata": {},
   "source": [
    "## STEP 5: Start Spark Server\n",
    "Now let's submit the application to Spark server\n",
    "\n",
    "```bash\n",
    "    $  ~/spark/sbin/start-all.sh\n",
    "```\n",
    "\n",
    "**=> Check the Spark Server UI at port 8080.**  \n",
    "**=> Note the Spark master URL.**  \n",
    "\n",
    "<img src=\"../assets/images/4.1b.png\" style=\"border: 5px solid grey; max-width:100%;\"/>"
   ]
  },
  {
   "cell_type": "markdown",
   "metadata": {
    "attributes": {
     "classes": [
      "console"
     ],
     "id": ""
    }
   },
   "source": [
    "## Step 6 :  Submit the application\n",
    "\n",
    "Use the following command to submit the job\n",
    "\n",
    "```bash\n",
    "    $  cd  ~/spark-labs/05-api\n",
    "\n",
    "    # single README file\n",
    "    $   ~/spark/bin/spark-submit  --master MASTER_URL   python/processfiles.py   README.md   2> logs\n",
    "\n",
    "    # multiple twinkle files\n",
    "    $   ~/spark/bin/spark-submit  --master MASTER_URL  python/processfiles.py    ~/data/text/twinkle/*  2> logs\n",
    "```\n",
    "\n",
    "TODO:   \n",
    "* MASTER URL : substitute your spark master url\n",
    "* for files you can try `README.md`\n",
    "\n",
    "**=> Watch the console output**\n",
    "\n",
    "It may look like the following\n",
    "\n",
    "```\n",
    "    15/04/15 15:41:51 INFO SparkUI: Started SparkUI at http://192.168.1.115:4040\n",
    "    ...\n",
    "    15/04/15 15:41:54 INFO DAGScheduler: Job 0 finished: count at ProcessFiles.scala:42, took 2.156893 s\n",
    "\n",
    "    ### README.md : count (7) took 2,251.007000 ms\n",
    "```\n",
    "\n",
    "The lines starting with `###` are output from our program"
   ]
  },
  {
   "cell_type": "markdown",
   "metadata": {},
   "source": [
    "## STEP 7:  Configuring logging\n",
    "\n",
    "### 7.1 - To quickly turn off the logging:\n",
    "Redirect the logs as follows `  2> logs`.   \n",
    "All logs will be sent to `logs` file.\n",
    "\n",
    "```bash\n",
    "    $  ~/spark/bin/spark-submit  --master MASTER_URL  python/processfiles.py    <files to process>    2>  logs\n",
    "```\n",
    "\n",
    "### 7.2 - Using log4j config\n",
    "Spark by default logs at INFO level.  While there is a lot of useful information there, it can be quite verbose.\n",
    "\n",
    "We have a `logging/log4j.properties` file.  Inspect this file\n",
    "\n",
    "```bash\n",
    "    $    cat   logging/log4j.properties\n",
    "```\n",
    "\n",
    "The file has following contents\n",
    "\n",
    "```console\n",
    "# Set everything to be logged to the console\n",
    "log4j.rootCategory=WARN, console\n",
    "log4j.appender.console=org.apache.log4j.ConsoleAppender\n",
    "log4j.appender.console.target=System.err\n",
    "log4j.appender.console.layout=org.apache.log4j.PatternLayout\n",
    "log4j.appender.console.layout.ConversionPattern=%d{yy/MM/dd HH:mm:ss} %p %c{1}: %m%n\n",
    "\n",
    "# Settings to quiet third party logs that are too verbose\n",
    "log4j.logger.org.eclipse.jetty=WARN\n",
    "log4j.logger.org.apache.spark.repl.SparkIMain$exprTyper=INFO\n",
    "log4j.logger.org.apache.spark.repl.SparkILoop$SparkILoopInterpreter=INFO\n",
    "```\n",
    "\n",
    "We provide `--driver-class-path logging/`  to spark-submit to turn off logging\n",
    "\n",
    "Here is an example\n",
    "\n",
    "```bash\n",
    "    $   ~/spark/bin/spark-submit --master local[*]  --driver-class-path logging/ processfiles/processfiles.py   README.md\n",
    "```"
   ]
  },
  {
   "cell_type": "code",
   "execution_count": null,
   "metadata": {},
   "outputs": [],
   "source": []
  }
 ],
 "metadata": {
  "kernelspec": {
   "display_name": "Python 3",
   "language": "python",
   "name": "python3"
  },
  "language_info": {
   "codemirror_mode": {
    "name": "ipython",
    "version": 3
   },
   "file_extension": ".py",
   "mimetype": "text/x-python",
   "name": "python",
   "nbconvert_exporter": "python",
   "pygments_lexer": "ipython3",
   "version": "3.6.8"
  }
 },
 "nbformat": 4,
 "nbformat_minor": 2
}
