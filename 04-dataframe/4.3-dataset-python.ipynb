{
 "cells": [
  {
   "cell_type": "markdown",
   "metadata": {},
   "source": [
    "<link rel='stylesheet' href='../assets/css/main.css'/>\n",
    "\n",
    "[<< back to main index](../README.md)\n",
    "\n",
    "# Lab 4.3 : Dataset\n",
    "\n",
    "\n",
    "\n",
    "### Overview\n",
    "Using Spark Dataset API  \n",
    "\n",
    "### Depends On \n",
    "None\n",
    "\n",
    "### Run time\n",
    "20-30 mins\n"
   ]
  },
  {
   "cell_type": "code",
   "execution_count": 2,
   "metadata": {
    "collapsed": true
   },
   "outputs": [
    {
     "name": "stdout",
     "output_type": "stream",
     "text": [
      "Initializing Spark...\n",
      "Spark found in :  /home/ubuntu/spark\n",
      "Spark config:\n",
      "\t spark.app.name=TestApp\n",
      "\tspark.master=local[*]\n",
      "\texecutor.memory=2g\n",
      "\tspark.sql.warehouse.dir=/tmp/tmp3qpknxma\n",
      "\tsome_property=some_value\n",
      "Spark UI running on port 4042\n"
     ]
    }
   ],
   "source": [
    "# initialize Spark Session\n",
    "import os\n",
    "import sys\n",
    "top_dir = os.path.abspath(os.path.join(os.getcwd(), \"../\"))\n",
    "if top_dir not in sys.path:\n",
    "    sys.path.append(top_dir)\n",
    "\n",
    "from init_spark import init_spark\n",
    "spark = init_spark()"
   ]
  },
  {
   "cell_type": "markdown",
   "metadata": {},
   "source": [
    "## STEP 1: Data\n",
    "Here is  [/data/people/people2.csv](/data/people/people2.csv)\n",
    "```\n",
    "name,gender,age\n",
    "John,M,35\n",
    "Jane,F,40\n",
    "Mike,M,18\n",
    "Sue,F,19\n",
    "```"
   ]
  },
  {
   "cell_type": "markdown",
   "metadata": {},
   "source": [
    "## Step 2: Use CSV Reader"
   ]
  },
  {
   "cell_type": "code",
   "execution_count": 3,
   "metadata": {
    "collapsed": true
   },
   "outputs": [
    {
     "name": "stdout",
     "output_type": "stream",
     "text": [
      "DataFrame[name: string, gender: string, age: int, weight: double]\n",
      "root\n",
      " |-- name: string (nullable = true)\n",
      " |-- gender: string (nullable = true)\n",
      " |-- age: integer (nullable = true)\n",
      " |-- weight: double (nullable = true)\n",
      "\n"
     ]
    }
   ],
   "source": [
    "peopleDF = spark.read.\\\n",
    "           option(\"header\", \"true\").\\\n",
    "           option(\"inferSchema\", \"true\").\\\n",
    "           csv(\"/data/people/people2.csv\")\n",
    "print(peopleDF)\n",
    "peopleDF.printSchema()"
   ]
  },
  {
   "cell_type": "markdown",
   "metadata": {},
   "source": [
    "## Step 3: Queries\n",
    "**==> Find people who are over 30 years old**"
   ]
  },
  {
   "cell_type": "code",
   "execution_count": 4,
   "metadata": {
    "collapsed": true
   },
   "outputs": [
    {
     "name": "stdout",
     "output_type": "stream",
     "text": [
      "+----+------+---+------+\n",
      "|name|gender|age|weight|\n",
      "+----+------+---+------+\n",
      "|John|     M| 35| 200.5|\n",
      "|Jane|     F| 40| 150.2|\n",
      "+----+------+---+------+\n",
      "\n"
     ]
    }
   ],
   "source": [
    "## hint: age\n",
    "peopleDF.filter(\"age > 30\").show()"
   ]
  },
  {
   "cell_type": "markdown",
   "metadata": {},
   "source": [
    "**==> Display people by their age**"
   ]
  },
  {
   "cell_type": "code",
   "execution_count": 5,
   "metadata": {
    "collapsed": true
   },
   "outputs": [
    {
     "name": "stdout",
     "output_type": "stream",
     "text": [
      "+----+------+---+------+\n",
      "|name|gender|age|weight|\n",
      "+----+------+---+------+\n",
      "|Mike|     M| 18| 120.0|\n",
      "| Sue|     F| 19| 100.0|\n",
      "|John|     M| 35| 200.5|\n",
      "|Jane|     F| 40| 150.2|\n",
      "+----+------+---+------+\n",
      "\n"
     ]
    }
   ],
   "source": [
    "# hint : age\n",
    "peopleDF.orderBy(\"age\").show()\n"
   ]
  },
  {
   "cell_type": "code",
   "execution_count": 6,
   "metadata": {
    "collapsed": true
   },
   "outputs": [
    {
     "name": "stdout",
     "output_type": "stream",
     "text": [
      "+----+------+---+------+\n",
      "|name|gender|age|weight|\n",
      "+----+------+---+------+\n",
      "|Jane|     F| 40| 150.2|\n",
      "|John|     M| 35| 200.5|\n",
      "| Sue|     F| 19| 100.0|\n",
      "|Mike|     M| 18| 120.0|\n",
      "+----+------+---+------+\n",
      "\n"
     ]
    }
   ],
   "source": [
    "\n",
    "# descending order\n",
    "peopleDF.orderBy(\"age\", ascending=False).show()"
   ]
  },
  {
   "cell_type": "markdown",
   "metadata": {},
   "source": [
    "## Step 4: Specify Schema"
   ]
  },
  {
   "cell_type": "code",
   "execution_count": 7,
   "metadata": {
    "collapsed": true
   },
   "outputs": [
    {
     "name": "stdout",
     "output_type": "stream",
     "text": [
      "root\n",
      " |-- name: string (nullable = true)\n",
      " |-- gender: string (nullable = true)\n",
      " |-- age: integer (nullable = true)\n",
      "\n",
      "+----+------+---+\n",
      "|name|gender|age|\n",
      "+----+------+---+\n",
      "|John|     M| 35|\n",
      "|Jane|     F| 40|\n",
      "|Mike|     M| 18|\n",
      "| Sue|     F| 19|\n",
      "+----+------+---+\n",
      "\n"
     ]
    }
   ],
   "source": [
    "from pyspark.sql.types import *\n",
    "\n",
    "nameField = StructField(\"name\", StringType(), True)\n",
    "\n",
    "# TODO : gender is 'StringType()' \n",
    "genderField = StructField(\"gender\", StringType(), True)\n",
    "\n",
    "# TODO : age is 'IntegerType()'\n",
    "ageField = StructField(\"age\", IntegerType(), True)\n",
    "my_schema = StructType([nameField, genderField, ageField])\n",
    "\n",
    "p = spark.read.\\\n",
    "    option(\"header\", \"true\").\\\n",
    "    schema(my_schema).\\\n",
    "    csv(\"/data/people/people2.csv\")\n",
    "p.printSchema()\n",
    "p.show()\n",
    "\n",
    "## TODO : verify the schema printed is the one we specified"
   ]
  },
  {
   "cell_type": "code",
   "execution_count": null,
   "metadata": {
    "collapsed": true
   },
   "outputs": [],
   "source": []
  }
 ],
 "metadata": {
  "kernelspec": {
   "display_name": "Python 3",
   "language": "python",
   "name": "python3"
  },
  "language_info": {
   "codemirror_mode": {
    "name": "ipython",
    "version": 3
   },
   "file_extension": ".py",
   "mimetype": "text/x-python",
   "name": "python",
   "nbconvert_exporter": "python",
   "pygments_lexer": "ipython3",
   "version": "3.6.8"
  }
 },
 "nbformat": 4,
 "nbformat_minor": 2
}
