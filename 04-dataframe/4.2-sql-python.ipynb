{
 "cells": [
  {
   "cell_type": "markdown",
   "metadata": {},
   "source": [
    "<link rel='stylesheet' href='../assets/css/main.css'/>\n",
    "\n",
    "[<< back to main index](../README.md)\n",
    "\n",
    "# Lab 4.2 : Spark SQL\n",
    "\n",
    "\n",
    "\n",
    "### Overview\n",
    "Using SQL statements with Spark SQL.   \n",
    "\n",
    "### Depends On \n",
    "None\n",
    "\n",
    "### Run time\n",
    "20-30 mins\n"
   ]
  },
  {
   "cell_type": "code",
   "execution_count": 1,
   "metadata": {
    "collapsed": true
   },
   "outputs": [
    {
     "name": "stdout",
     "output_type": "stream",
     "text": [
      "Initializing Spark...\n",
      "Spark found in :  /home/ubuntu/spark\n",
      "Spark config:\n",
      "\t spark.app.name=TestApp\n",
      "\tspark.master=local[*]\n",
      "\texecutor.memory=2g\n",
      "\tspark.sql.warehouse.dir=/tmp/tmppigxo5mg\n",
      "\tsome_property=some_value\n",
      "Spark UI running on port 4041\n"
     ]
    }
   ],
   "source": [
    "# initialize Spark Session\n",
    "import os\n",
    "import sys\n",
    "top_dir = os.path.abspath(os.path.join(os.getcwd(), \"../\"))\n",
    "if top_dir not in sys.path:\n",
    "    sys.path.append(top_dir)\n",
    "\n",
    "from init_spark import init_spark\n",
    "spark = init_spark()"
   ]
  },
  {
   "cell_type": "markdown",
   "metadata": {},
   "source": [
    "## STEP 1: Load Clickstream data"
   ]
  },
  {
   "cell_type": "code",
   "execution_count": 2,
   "metadata": {
    "attributes": {
     "classes": [
      "scala"
     ],
     "id": ""
    },
    "collapsed": true
   },
   "outputs": [
    {
     "name": "stdout",
     "output_type": "stream",
     "text": [
      "DataFrame[action: string, campaign: string, cost: bigint, domain: string, ip: string, session: string, timestamp: bigint, user: string]\n",
      "+-------+-----------+----+-----------------+----+----------+-------------+------+\n",
      "| action|   campaign|cost|           domain|  ip|   session|    timestamp|  user|\n",
      "+-------+-----------+----+-----------------+----+----------+-------------+------+\n",
      "|clicked|campaign_19| 118|      youtube.com|ip_4|session_36|1420070400000|user_9|\n",
      "|blocked|campaign_12|   5|     facebook.com|ip_3|session_96|1420070400864|user_5|\n",
      "|clicked| campaign_3|  54|sf.craigslist.org|ip_9|session_61|1420070401728|user_8|\n",
      "|blocked|campaign_18| 110|    wikipedia.org|ip_5|session_55|1420070402592|user_6|\n",
      "|clicked| campaign_6|  15|comedycentral.com|ip_9|session_49|1420070403456|user_4|\n",
      "|blocked| campaign_9| 139|          cnn.com|ip_8|session_13|1420070404320|user_7|\n",
      "|blocked| campaign_4| 171|   funnyordie.com|ip_1|session_92|1420070405184|user_9|\n",
      "|blocked|campaign_17|  20|       amazon.com|ip_4|session_13|1420070406048|user_1|\n",
      "|blocked|campaign_20|  78|        zynga.com|ip_5|session_36|1420070406912|user_3|\n",
      "|blocked|campaign_19| 147|      nytimes.com|ip_2|session_65|1420070407776|user_6|\n",
      "| viewed| campaign_5|  50|    wikipedia.org|ip_5|session_10|1420070408640|user_6|\n",
      "|clicked|campaign_16| 141|    wikipedia.org|ip_1|session_57|1420070409504|user_1|\n",
      "| viewed|campaign_19|   0|sf.craigslist.org|ip_9|session_19|1420070410368|user_7|\n",
      "| viewed| campaign_1|  24|        yahoo.com|ip_4|session_60|1420070411232|user_8|\n",
      "|clicked| campaign_5|  74|       sfgate.com|ip_6|session_27|1420070412096|user_3|\n",
      "|blocked| campaign_2|   7|      youtube.com|ip_2|session_93|1420070412960|user_1|\n",
      "|blocked| campaign_9| 153|       google.com|ip_3|session_22|1420070413824|user_9|\n",
      "|blocked| campaign_8| 140|comedycentral.com|ip_8| session_4|1420070414688|user_2|\n",
      "|blocked|campaign_19|  23|       amazon.com|ip_5|session_85|1420070415552|user_7|\n",
      "| viewed|campaign_20| 133|       google.com|ip_9|session_69|1420070416416|user_7|\n",
      "+-------+-----------+----+-----------------+----+----------+-------------+------+\n",
      "\n"
     ]
    }
   ],
   "source": [
    "clickstreamDF = spark.read.json(\"/data/click-stream/clickstream.json\")\n",
    "print(clickstreamDF)\n",
    "clickstreamDF.show()"
   ]
  },
  {
   "cell_type": "markdown",
   "metadata": {},
   "source": [
    "**==> Register dataframe as a table**"
   ]
  },
  {
   "cell_type": "code",
   "execution_count": 3,
   "metadata": {
    "attributes": {
     "classes": [
      "scala"
     ],
     "id": ""
    },
    "collapsed": true
   },
   "outputs": [
    {
     "name": "stdout",
     "output_type": "stream",
     "text": [
      "created clickstream temp table\n"
     ]
    }
   ],
   "source": [
    "clickstreamDF.createOrReplaceTempView(\"clickstream\")\n",
    "print(\"created clickstream temp table\")"
   ]
  },
  {
   "cell_type": "markdown",
   "metadata": {},
   "source": [
    "## STEP 2: Querying using SQL\n",
    "\n",
    "\n",
    "**==> Select all logs**"
   ]
  },
  {
   "cell_type": "code",
   "execution_count": 4,
   "metadata": {
    "attributes": {
     "classes": [
      "scala"
     ],
     "id": ""
    },
    "collapsed": true,
    "scrolled": true
   },
   "outputs": [
    {
     "name": "stdout",
     "output_type": "stream",
     "text": [
      "+-------+-----------+----+-----------------+----+----------+-------------+------+\n",
      "| action|   campaign|cost|           domain|  ip|   session|    timestamp|  user|\n",
      "+-------+-----------+----+-----------------+----+----------+-------------+------+\n",
      "|clicked|campaign_19| 118|      youtube.com|ip_4|session_36|1420070400000|user_9|\n",
      "|blocked|campaign_12|   5|     facebook.com|ip_3|session_96|1420070400864|user_5|\n",
      "|clicked| campaign_3|  54|sf.craigslist.org|ip_9|session_61|1420070401728|user_8|\n",
      "|blocked|campaign_18| 110|    wikipedia.org|ip_5|session_55|1420070402592|user_6|\n",
      "|clicked| campaign_6|  15|comedycentral.com|ip_9|session_49|1420070403456|user_4|\n",
      "|blocked| campaign_9| 139|          cnn.com|ip_8|session_13|1420070404320|user_7|\n",
      "|blocked| campaign_4| 171|   funnyordie.com|ip_1|session_92|1420070405184|user_9|\n",
      "|blocked|campaign_17|  20|       amazon.com|ip_4|session_13|1420070406048|user_1|\n",
      "|blocked|campaign_20|  78|        zynga.com|ip_5|session_36|1420070406912|user_3|\n",
      "|blocked|campaign_19| 147|      nytimes.com|ip_2|session_65|1420070407776|user_6|\n",
      "| viewed| campaign_5|  50|    wikipedia.org|ip_5|session_10|1420070408640|user_6|\n",
      "|clicked|campaign_16| 141|    wikipedia.org|ip_1|session_57|1420070409504|user_1|\n",
      "| viewed|campaign_19|   0|sf.craigslist.org|ip_9|session_19|1420070410368|user_7|\n",
      "| viewed| campaign_1|  24|        yahoo.com|ip_4|session_60|1420070411232|user_8|\n",
      "|clicked| campaign_5|  74|       sfgate.com|ip_6|session_27|1420070412096|user_3|\n",
      "|blocked| campaign_2|   7|      youtube.com|ip_2|session_93|1420070412960|user_1|\n",
      "|blocked| campaign_9| 153|       google.com|ip_3|session_22|1420070413824|user_9|\n",
      "|blocked| campaign_8| 140|comedycentral.com|ip_8| session_4|1420070414688|user_2|\n",
      "|blocked|campaign_19|  23|       amazon.com|ip_5|session_85|1420070415552|user_7|\n",
      "| viewed|campaign_20| 133|       google.com|ip_9|session_69|1420070416416|user_7|\n",
      "+-------+-----------+----+-----------------+----+----------+-------------+------+\n",
      "\n"
     ]
    }
   ],
   "source": [
    "logs = spark.sql(\"select * from clickstream\")\n",
    "#'logs' is a dataframe\n",
    "\n",
    "# display the logs, hint : show\n",
    "logs.show()"
   ]
  },
  {
   "cell_type": "markdown",
   "metadata": {},
   "source": [
    "**==> Find records with only clicks**\n"
   ]
  },
  {
   "cell_type": "code",
   "execution_count": 6,
   "metadata": {
    "collapsed": true
   },
   "outputs": [
    {
     "name": "stdout",
     "output_type": "stream",
     "text": [
      "+-------+-----------+----+-----------------+----+----------+-------------+------+\n",
      "| action|   campaign|cost|           domain|  ip|   session|    timestamp|  user|\n",
      "+-------+-----------+----+-----------------+----+----------+-------------+------+\n",
      "|clicked|campaign_19| 118|      youtube.com|ip_4|session_36|1420070400000|user_9|\n",
      "|clicked| campaign_3|  54|sf.craigslist.org|ip_9|session_61|1420070401728|user_8|\n",
      "|clicked| campaign_6|  15|comedycentral.com|ip_9|session_49|1420070403456|user_4|\n",
      "|clicked|campaign_16| 141|    wikipedia.org|ip_1|session_57|1420070409504|user_1|\n",
      "|clicked| campaign_5|  74|       sfgate.com|ip_6|session_27|1420070412096|user_3|\n",
      "+-------+-----------+----+-----------------+----+----------+-------------+------+\n",
      "\n"
     ]
    }
   ],
   "source": [
    "# Find Records with only clicks\n",
    "# TODO: fix the  table name?\n",
    "spark.sql(\"select * from clickstream where action = 'clicked'\").show()\n"
   ]
  },
  {
   "cell_type": "markdown",
   "metadata": {},
   "source": [
    "**==> Count records from each domain, sort the output by most to least**\n",
    "\n",
    "Sample output:\n",
    "\n",
    "```\n",
    "+-----------------+-----+\n",
    "|           domain|total|\n",
    "+-----------------+-----+\n",
    "|      nytimes.com|    1|\n",
    "|     facebook.com|    1|\n",
    "|       google.com|    2|\n",
    "|       amazon.com|    2|\n",
    "|    wikipedia.org|    3|\n",
    "+-----------------+-----+\n",
    "```"
   ]
  },
  {
   "cell_type": "code",
   "execution_count": 7,
   "metadata": {
    "collapsed": true
   },
   "outputs": [
    {
     "name": "stdout",
     "output_type": "stream",
     "text": [
      "+-----------------+-----+\n",
      "|           domain|total|\n",
      "+-----------------+-----+\n",
      "|        yahoo.com|    1|\n",
      "|        zynga.com|    1|\n",
      "|       sfgate.com|    1|\n",
      "|   funnyordie.com|    1|\n",
      "|     facebook.com|    1|\n",
      "|          cnn.com|    1|\n",
      "|      nytimes.com|    1|\n",
      "|      youtube.com|    2|\n",
      "|       amazon.com|    2|\n",
      "|       google.com|    2|\n",
      "|sf.craigslist.org|    2|\n",
      "|comedycentral.com|    2|\n",
      "|    wikipedia.org|    3|\n",
      "+-----------------+-----+\n",
      "\n"
     ]
    }
   ],
   "source": [
    "# TODO: Try this query here:\n",
    "\n",
    "spark.sql(\"select domain, COUNT(*) as total from clickstream group by domain  order by total \").show()"
   ]
  },
  {
   "cell_type": "markdown",
   "metadata": {},
   "source": [
    "\n",
    "## STEP 3: Joining Datasets\n",
    "\n",
    "**==> Load `domains` dataset and register it to table `domains`**"
   ]
  },
  {
   "cell_type": "code",
   "execution_count": 8,
   "metadata": {
    "attributes": {
     "classes": [
      "scala"
     ],
     "id": ""
    },
    "collapsed": true
   },
   "outputs": [
    {
     "name": "stdout",
     "output_type": "stream",
     "text": [
      "+-----------+-----------------+\n",
      "|   category|           domain|\n",
      "+-----------+-----------------+\n",
      "|   SHOPPING|       amazon.com|\n",
      "|       NEWS|        bbc.co.uk|\n",
      "|     SOCIAL|     facebook.com|\n",
      "|      PHOTO|       flickr.com|\n",
      "|       NEWS|      foxnews.com|\n",
      "|     SEARCH|       google.com|\n",
      "|       NEWS|          npr.org|\n",
      "|       NEWS|      nytimes.com|\n",
      "|CLASSIFIEDS|sf.craigslist.org|\n",
      "|       NEWS|       sfgate.com|\n",
      "|     SOCIAL|      twitter.com|\n",
      "|       NEWS|     usatoday.com|\n",
      "|  REFERENCE|    wikipedia.org|\n",
      "|     SEARCH|        yahoo.com|\n",
      "|      VIDEO|      youtube.com|\n",
      "+-----------+-----------------+\n",
      "\n"
     ]
    }
   ],
   "source": [
    "domainsDF = spark.read.json(\"/data/click-stream/domain-info.json\")\n",
    "domainsDF.show()\n",
    "domainsDF.createOrReplaceTempView(\"domains\")"
   ]
  },
  {
   "cell_type": "markdown",
   "metadata": {},
   "source": [
    "**==> Join `clickstreams` and `domains`**    \n",
    "Hint : Join query syntax for joining two tables A, B on A.x and A.y is\n",
    "```\n",
    "spark.sql(\"select A.*, B.* from A  join B  ON (A.x = B.y)\") \n",
    "```"
   ]
  },
  {
   "cell_type": "code",
   "execution_count": 9,
   "metadata": {
    "attributes": {
     "classes": [
      "sql"
     ],
     "id": ""
    },
    "collapsed": true
   },
   "outputs": [
    {
     "name": "stdout",
     "output_type": "stream",
     "text": [
      "+-------+-----------+----+-----------------+----+----------+-------------+------+-----------+-----------------+\n",
      "| action|   campaign|cost|           domain|  ip|   session|    timestamp|  user|   category|           domain|\n",
      "+-------+-----------+----+-----------------+----+----------+-------------+------+-----------+-----------------+\n",
      "|clicked|campaign_19| 118|      youtube.com|ip_4|session_36|1420070400000|user_9|      VIDEO|      youtube.com|\n",
      "|blocked|campaign_12|   5|     facebook.com|ip_3|session_96|1420070400864|user_5|     SOCIAL|     facebook.com|\n",
      "|clicked| campaign_3|  54|sf.craigslist.org|ip_9|session_61|1420070401728|user_8|CLASSIFIEDS|sf.craigslist.org|\n",
      "|blocked|campaign_18| 110|    wikipedia.org|ip_5|session_55|1420070402592|user_6|  REFERENCE|    wikipedia.org|\n",
      "|blocked|campaign_17|  20|       amazon.com|ip_4|session_13|1420070406048|user_1|   SHOPPING|       amazon.com|\n",
      "|blocked|campaign_19| 147|      nytimes.com|ip_2|session_65|1420070407776|user_6|       NEWS|      nytimes.com|\n",
      "| viewed| campaign_5|  50|    wikipedia.org|ip_5|session_10|1420070408640|user_6|  REFERENCE|    wikipedia.org|\n",
      "|clicked|campaign_16| 141|    wikipedia.org|ip_1|session_57|1420070409504|user_1|  REFERENCE|    wikipedia.org|\n",
      "| viewed|campaign_19|   0|sf.craigslist.org|ip_9|session_19|1420070410368|user_7|CLASSIFIEDS|sf.craigslist.org|\n",
      "| viewed| campaign_1|  24|        yahoo.com|ip_4|session_60|1420070411232|user_8|     SEARCH|        yahoo.com|\n",
      "|clicked| campaign_5|  74|       sfgate.com|ip_6|session_27|1420070412096|user_3|       NEWS|       sfgate.com|\n",
      "|blocked| campaign_2|   7|      youtube.com|ip_2|session_93|1420070412960|user_1|      VIDEO|      youtube.com|\n",
      "|blocked| campaign_9| 153|       google.com|ip_3|session_22|1420070413824|user_9|     SEARCH|       google.com|\n",
      "|blocked|campaign_19|  23|       amazon.com|ip_5|session_85|1420070415552|user_7|   SHOPPING|       amazon.com|\n",
      "| viewed|campaign_20| 133|       google.com|ip_9|session_69|1420070416416|user_7|     SEARCH|       google.com|\n",
      "+-------+-----------+----+-----------------+----+----------+-------------+------+-----------+-----------------+\n",
      "\n"
     ]
    }
   ],
   "source": [
    "# Write sql query for joining clickstreams and domains\n",
    "# TODO : fill in the common attribute for  clickstream & domain table\n",
    "# Hint : domain\n",
    "\n",
    "s = \"\"\"\n",
    "SELECT clickstream.*, domains.*  \n",
    "from clickstream join domains \n",
    "ON (clickstream.domain= domains.domain)\n",
    "\"\"\"\n",
    "\n",
    "spark.sql(s).show()"
   ]
  },
  {
   "cell_type": "markdown",
   "metadata": {},
   "source": [
    "\n",
    "**==> Count traffic per domain category (news, social ..etc)**    \n",
    "Hint : query the joined datasets\n"
   ]
  },
  {
   "cell_type": "code",
   "execution_count": 13,
   "metadata": {
    "collapsed": true
   },
   "outputs": [
    {
     "name": "stdout",
     "output_type": "stream",
     "text": [
      "+-----------+-----+\n",
      "|   category|total|\n",
      "+-----------+-----+\n",
      "|     SOCIAL|    1|\n",
      "|       NEWS|    2|\n",
      "|   SHOPPING|    2|\n",
      "|      VIDEO|    2|\n",
      "|CLASSIFIEDS|    2|\n",
      "|  REFERENCE|    3|\n",
      "|     SEARCH|    3|\n",
      "+-----------+-----+\n",
      "\n"
     ]
    }
   ],
   "source": [
    "# TODO: Count traffic per domained category\n",
    "\n",
    "s = \"\"\"\n",
    "SELECT  domains.category, count(clickstream.*) as total  \n",
    "from clickstream join domains \n",
    "ON (clickstream.domain= domains.domain)\n",
    "group by domains.category\n",
    "order by total \n",
    "\"\"\"\n",
    "\n",
    "spark.sql(s).show()\n"
   ]
  },
  {
   "cell_type": "markdown",
   "metadata": {},
   "source": [
    "\n",
    "## STEP 4: Explore UI\n",
    "(Your DAG visualization may be slightly different from what we show here)\n",
    "\n",
    "<img src=\"../assets/images/5.2c.png\" style=\"border: 5px solid grey; max-width:100%;\"/>\n",
    "\n",
    "<img src=\"../assets/images/5.2d.png\" style=\"border: 5px solid grey; max-width:100%;\"/>\n",
    "\n",
    "<img src=\"../assets/images/5.2e.png\" style=\"border: 5px solid grey; max-width:100%;\"/>"
   ]
  },
  {
   "cell_type": "markdown",
   "metadata": {},
   "source": [
    "## Step 5 : Understand Query Execution\n",
    "We will use **explain** "
   ]
  },
  {
   "cell_type": "code",
   "execution_count": 14,
   "metadata": {
    "collapsed": true
   },
   "outputs": [
    {
     "name": "stdout",
     "output_type": "stream",
     "text": [
      "== Parsed Logical Plan ==\n",
      "'Project [*]\n",
      "+- 'Filter ('cost > 100)\n",
      "   +- 'UnresolvedRelation `clickstream`\n",
      "\n",
      "== Analyzed Logical Plan ==\n",
      "action: string, campaign: string, cost: bigint, domain: string, ip: string, session: string, timestamp: bigint, user: string\n",
      "Project [action#6, campaign#7, cost#8L, domain#9, ip#10, session#11, timestamp#12L, user#13]\n",
      "+- Filter (cost#8L > cast(100 as bigint))\n",
      "   +- SubqueryAlias `clickstream`\n",
      "      +- Relation[action#6,campaign#7,cost#8L,domain#9,ip#10,session#11,timestamp#12L,user#13] json\n",
      "\n",
      "== Optimized Logical Plan ==\n",
      "Filter (isnotnull(cost#8L) && (cost#8L > 100))\n",
      "+- Relation[action#6,campaign#7,cost#8L,domain#9,ip#10,session#11,timestamp#12L,user#13] json\n",
      "\n",
      "== Physical Plan ==\n",
      "*(1) Project [action#6, campaign#7, cost#8L, domain#9, ip#10, session#11, timestamp#12L, user#13]\n",
      "+- *(1) Filter (isnotnull(cost#8L) && (cost#8L > 100))\n",
      "   +- *(1) FileScan json [action#6,campaign#7,cost#8L,domain#9,ip#10,session#11,timestamp#12L,user#13] Batched: false, Format: JSON, Location: InMemoryFileIndex[file:/data/click-stream/clickstream.json], PartitionFilters: [], PushedFilters: [IsNotNull(cost), GreaterThan(cost,100)], ReadSchema: struct<action:string,campaign:string,cost:bigint,domain:string,ip:string,session:string,timestamp...\n"
     ]
    }
   ],
   "source": [
    "spark.sql(\"select * from clickstream where cost > 100\").explain(extended=True)"
   ]
  },
  {
   "cell_type": "code",
   "execution_count": 16,
   "metadata": {
    "collapsed": true
   },
   "outputs": [
    {
     "name": "stdout",
     "output_type": "stream",
     "text": [
      "== Parsed Logical Plan ==\n",
      "'Sort ['total ASC NULLS FIRST], true\n",
      "+- 'Aggregate ['domains.category], ['domains.category, 'count(ArrayBuffer(clickstream).*) AS total#280]\n",
      "   +- 'Join Inner, ('clickstream.domain = 'domains.domain)\n",
      "      :- 'UnresolvedRelation `clickstream`\n",
      "      +- 'UnresolvedRelation `domains`\n",
      "\n",
      "== Analyzed Logical Plan ==\n",
      "category: string, total: bigint\n",
      "Sort [total#280L ASC NULLS FIRST], true\n",
      "+- Aggregate [category#158], [category#158, count(action#6, campaign#7, cost#8L, domain#9, ip#10, session#11, timestamp#12L, user#13) AS total#280L]\n",
      "   +- Join Inner, (domain#9 = domain#159)\n",
      "      :- SubqueryAlias `clickstream`\n",
      "      :  +- Relation[action#6,campaign#7,cost#8L,domain#9,ip#10,session#11,timestamp#12L,user#13] json\n",
      "      +- SubqueryAlias `domains`\n",
      "         +- Relation[category#158,domain#159] json\n",
      "\n",
      "== Optimized Logical Plan ==\n",
      "Sort [total#280L ASC NULLS FIRST], true\n",
      "+- Aggregate [category#158], [category#158, count(action#6, campaign#7, cost#8L, domain#9, ip#10, session#11, timestamp#12L, user#13) AS total#280L]\n",
      "   +- Project [action#6, campaign#7, cost#8L, domain#9, ip#10, session#11, timestamp#12L, user#13, category#158]\n",
      "      +- Join Inner, (domain#9 = domain#159)\n",
      "         :- Filter isnotnull(domain#9)\n",
      "         :  +- Relation[action#6,campaign#7,cost#8L,domain#9,ip#10,session#11,timestamp#12L,user#13] json\n",
      "         +- Filter isnotnull(domain#159)\n",
      "            +- Relation[category#158,domain#159] json\n",
      "\n",
      "== Physical Plan ==\n",
      "*(4) Sort [total#280L ASC NULLS FIRST], true, 0\n",
      "+- Exchange rangepartitioning(total#280L ASC NULLS FIRST, 200)\n",
      "   +- *(3) HashAggregate(keys=[category#158], functions=[count(action#6, campaign#7, cost#8L, domain#9, ip#10, session#11, timestamp#12L, user#13)], output=[category#158, total#280L])\n",
      "      +- Exchange hashpartitioning(category#158, 200)\n",
      "         +- *(2) HashAggregate(keys=[category#158], functions=[partial_count(action#6, campaign#7, cost#8L, domain#9, ip#10, session#11, timestamp#12L, user#13)], output=[category#158, count#285L])\n",
      "            +- *(2) Project [action#6, campaign#7, cost#8L, domain#9, ip#10, session#11, timestamp#12L, user#13, category#158]\n",
      "               +- *(2) BroadcastHashJoin [domain#9], [domain#159], Inner, BuildRight\n",
      "                  :- *(2) Project [action#6, campaign#7, cost#8L, domain#9, ip#10, session#11, timestamp#12L, user#13]\n",
      "                  :  +- *(2) Filter isnotnull(domain#9)\n",
      "                  :     +- *(2) FileScan json [action#6,campaign#7,cost#8L,domain#9,ip#10,session#11,timestamp#12L,user#13] Batched: false, Format: JSON, Location: InMemoryFileIndex[file:/data/click-stream/clickstream.json], PartitionFilters: [], PushedFilters: [IsNotNull(domain)], ReadSchema: struct<action:string,campaign:string,cost:bigint,domain:string,ip:string,session:string,timestamp...\n",
      "                  +- BroadcastExchange HashedRelationBroadcastMode(List(input[1, string, true]))\n",
      "                     +- *(1) Project [category#158, domain#159]\n",
      "                        +- *(1) Filter isnotnull(domain#159)\n",
      "                           +- *(1) FileScan json [category#158,domain#159] Batched: false, Format: JSON, Location: InMemoryFileIndex[file:/data/click-stream/domain-info.json], PartitionFilters: [], PushedFilters: [IsNotNull(domain)], ReadSchema: struct<category:string,domain:string>\n"
     ]
    }
   ],
   "source": [
    "s = \"\"\"\n",
    "SELECT  domains.category, count(clickstream.*) as total  \n",
    "from clickstream join domains \n",
    "ON (clickstream.domain= domains.domain)\n",
    "group by domains.category\n",
    "order by total \n",
    "\"\"\"\n",
    "\n",
    "spark.sql(s).explain(extended=True)"
   ]
  },
  {
   "cell_type": "code",
   "execution_count": null,
   "metadata": {},
   "outputs": [],
   "source": []
  }
 ],
 "metadata": {
  "kernelspec": {
   "display_name": "Python 3",
   "language": "python",
   "name": "python3"
  },
  "language_info": {
   "codemirror_mode": {
    "name": "ipython",
    "version": 3
   },
   "file_extension": ".py",
   "mimetype": "text/x-python",
   "name": "python",
   "nbconvert_exporter": "python",
   "pygments_lexer": "ipython3",
   "version": "3.6.8"
  }
 },
 "nbformat": 4,
 "nbformat_minor": 2
}
