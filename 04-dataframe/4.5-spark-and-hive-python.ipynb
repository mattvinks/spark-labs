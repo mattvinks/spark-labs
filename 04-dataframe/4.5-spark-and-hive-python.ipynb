{
 "cells": [
  {
   "cell_type": "markdown",
   "metadata": {
    "attributes": {
     "classes": [
      "sql"
     ],
     "id": ""
    }
   },
   "source": [
    "<link rel='stylesheet' href='../assets/css/main.css'/>\n",
    "\n",
    "# Lab 4.5: Spark And Hive (Only on a Hadoop cluster)\n",
    "\n",
    "\n",
    "<img src=\"../assets/images/spark-and-hadoop-1.png\" style=\"border: 5px solid grey ; max-\n",
    "width:100%;\" />\n",
    "\n",
    "<img src=\"../assets/images/spark-and-hadoop-2.png\" style=\"border: 5px solid grey ; max-\n",
    "width:100%;\" />\n",
    "\n",
    "\n",
    "## Step 1 : Open Two Terminal Sessions to Hadoop Node\n",
    "\n",
    "#### This lab is to be executed on a Hadoop cluster with Hive & Spark installed\n",
    "\n",
    "## Step 2 : In Terminal 1 : Start Hive Shell\n",
    "\n",
    "```bash\n",
    "    $   hive\n",
    "```\n",
    "\n",
    "Inspect the tables and run a query on 'clickstream' table.\n",
    "\n",
    "```sql\n",
    "  hive>\n",
    "        show tables;\n",
    "\n",
    "        select * from x_clickstream limit 10;\n",
    "\n",
    "        select action, count(*) as total from x_clickstream group by action;\n",
    "```"
   ]
  },
  {
   "cell_type": "markdown",
   "metadata": {},
   "source": [
    "## Step 3 : In Terminal 2 Start Spark shell\n",
    "\n",
    "```bash\n",
    "    $    pyspark\n",
    "```\n",
    "\n",
    "Type the following in Spark Shell\n",
    "\n",
    "Go to http://localhost:4040 in the browser."
   ]
  },
  {
   "cell_type": "code",
   "execution_count": null,
   "metadata": {
    "collapsed": true
   },
   "outputs": [],
   "source": [
    "sc.setLogLevel(\"WARN\")\n",
    "print('Spark UI running on http://YOURIPADDRESS:' + sc.uiWebUrl.split(':')[2])"
   ]
  },
  {
   "cell_type": "markdown",
   "metadata": {},
   "source": [
    "## Step 4 : Inspect Hive Tables\n",
    "Do this in pyspark\n",
    "\n",
    "#### spark 2"
   ]
  },
  {
   "cell_type": "code",
   "execution_count": null,
   "metadata": {
    "collapsed": true
   },
   "outputs": [],
   "source": [
    "## Spark 2 Catalog\n",
    "from pprint import pprint\n",
    "\n",
    "pprint(spark.catalog.listDatabases())\n",
    "\n",
    "## TODO : change 'mydb' \n",
    "pprint(spark.catalog.listTables(\"mydb\"))"
   ]
  },
  {
   "cell_type": "markdown",
   "metadata": {},
   "source": [
    "#### Spark 1"
   ]
  },
  {
   "cell_type": "code",
   "execution_count": null,
   "metadata": {
    "attributes": {
     "classes": [
      "scala"
     ],
     "id": ""
    },
    "collapsed": true
   },
   "outputs": [],
   "source": [
    "## Spark 1\n",
    "sqlContext.tableNames()\n",
    "## TODO : change 'mydb' accordingly\n",
    "sqlContext.tableNames(\"mydb\")\n",
    "\n",
    "t = sqlContext.table(\"mydb.clickstream\")\n",
    "t.printSchema()\n",
    "t.show()"
   ]
  },
  {
   "cell_type": "markdown",
   "metadata": {},
   "source": [
    "## Step 5 : Queries\n",
    "#### Spark 2"
   ]
  },
  {
   "cell_type": "code",
   "execution_count": null,
   "metadata": {
    "collapsed": true
   },
   "outputs": [],
   "source": [
    "## Spark 2\n",
    "\n",
    "df = spark.sql(\"select * from x_clickstream limit 10\")\n",
    "df.printSchema()\n",
    "df.show()\n",
    "\n",
    "spark.sql(\"select action, count(*) as total from x_clickstream group by action\").show()\n",
    "\n",
    "## You can access your tables as  :   MYNAME_db.transactions\n",
    "## If you have transaction tables setup, try the following queries\n",
    "## TODO : Fix MYNAME\n",
    "df = spark.sql(\"select * from MYNAME_db.transactions limit 10\").show()\n",
    "df.printSchema()\n",
    "\n",
    "sql = \"\"\"\n",
    "select account_id, SUM(amount) as total \n",
    "from MYNAME_db.transactions \n",
    "group by account_id\n",
    "order by total desc \n",
    "limit 10\n",
    "\"\"\"\n",
    "spark.sql(sql).show()"
   ]
  },
  {
   "cell_type": "markdown",
   "metadata": {},
   "source": [
    "#### Spark 1 "
   ]
  },
  {
   "cell_type": "code",
   "execution_count": null,
   "metadata": {
    "collapsed": true
   },
   "outputs": [],
   "source": [
    "sqlContext.sql(\"select * from x_clickstream limit 10\").show()\n",
    "sqlContext.sql(\"select action, count(*) as total from x_clickstream group by action\").show()"
   ]
  }
 ],
 "metadata": {
  "kernelspec": {
   "display_name": "Python 3",
   "language": "python",
   "name": "python3"
  },
  "language_info": {
   "codemirror_mode": {
    "name": "ipython",
    "version": 3
   },
   "file_extension": ".py",
   "mimetype": "text/x-python",
   "name": "python",
   "nbconvert_exporter": "python",
   "pygments_lexer": "ipython3",
   "version": "3.6.8"
  }
 },
 "nbformat": 4,
 "nbformat_minor": 2
}
