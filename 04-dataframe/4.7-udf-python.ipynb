{
 "cells": [
  {
   "cell_type": "markdown",
   "metadata": {},
   "source": [
    "<link rel='stylesheet' href='../assets/css/main.css'/>\n",
    "\n",
    "[<< back to main index](../README.md) \n",
    "\n",
    "# Lab 4.1 : Spark UDF\n",
    "\n",
    "\n",
    "### Overview\n",
    "Using User Defined Functions with Spark Dataframes\n",
    "\n",
    "### Depends On \n",
    "None\n",
    "\n",
    "### Run time\n",
    "15-20 mins\n"
   ]
  },
  {
   "cell_type": "code",
   "execution_count": 1,
   "metadata": {},
   "outputs": [
    {
     "name": "stdout",
     "output_type": "stream",
     "text": [
      "Spark UI running on http://YOURIPADDRESS:4040\n"
     ]
    }
   ],
   "source": [
    "print('Spark UI running on http://YOURIPADDRESS:' + sc.uiWebUrl.split(':')[2])"
   ]
  },
  {
   "cell_type": "markdown",
   "metadata": {},
   "source": [
    "\n",
    "## STEP 1: Load MT Cars data"
   ]
  },
  {
   "cell_type": "code",
   "execution_count": 3,
   "metadata": {
    "attributes": {
     "classes": [
      "scala"
     ],
     "id": ""
    }
   },
   "outputs": [
    {
     "name": "stdout",
     "output_type": "stream",
     "text": [
      "DataFrame[model: string, mpg: string, cyl: string, disp: string, hp: string, drat: string, wt: string, qsec: string, vs: string, am: string, gear: string, carb: string]\n"
     ]
    }
   ],
   "source": [
    "mtcarsDF = spark.read.csv(\"/data/cars/mtcars_header.csv\", header=\"true\")\n",
    "print(mtcarsDF)"
   ]
  },
  {
   "cell_type": "markdown",
   "metadata": {},
   "source": [
    "\n",
    "\n",
    "## STEP 2 : Inspecting The Dataframe\n",
    "\n",
    "**==> Print the schema of data frame**     \n"
   ]
  },
  {
   "cell_type": "code",
   "execution_count": 4,
   "metadata": {},
   "outputs": [
    {
     "name": "stdout",
     "output_type": "stream",
     "text": [
      "root\n",
      " |-- model: string (nullable = true)\n",
      " |-- mpg: string (nullable = true)\n",
      " |-- cyl: string (nullable = true)\n",
      " |-- disp: string (nullable = true)\n",
      " |-- hp: string (nullable = true)\n",
      " |-- drat: string (nullable = true)\n",
      " |-- wt: string (nullable = true)\n",
      " |-- qsec: string (nullable = true)\n",
      " |-- vs: string (nullable = true)\n",
      " |-- am: string (nullable = true)\n",
      " |-- gear: string (nullable = true)\n",
      " |-- carb: string (nullable = true)\n",
      "\n"
     ]
    }
   ],
   "source": [
    "# TODO: Print the schema\n",
    "# Hint : `printSchema()`\n",
    "\n",
    "# mtcarsDF.????()\n",
    "mtcarsDF.printSchema()"
   ]
  },
  {
   "cell_type": "markdown",
   "metadata": {},
   "source": [
    "Your output may look like this:\n",
    "\n",
    "```\n",
    "root\n",
    " |-- model: string (nullable = true)\n",
    " |-- mpg: string (nullable = true)\n",
    " |-- cyl: string (nullable = true)\n",
    " |-- disp: string (nullable = true)\n",
    " |-- hp: string (nullable = true)\n",
    " |-- drat: string (nullable = true)\n",
    " |-- wt: string (nullable = true)\n",
    " |-- qsec: string (nullable = true)\n",
    " |-- vs: string (nullable = true)\n",
    " |-- am: string (nullable = true)\n",
    " |-- gear: string (nullable = true)\n",
    " |-- carb: string (nullable = true)\n",
    "\n",
    "```\n",
    "\n",
    "**==> Print / Dump the data contained within dataframe**  "
   ]
  },
  {
   "cell_type": "code",
   "execution_count": 5,
   "metadata": {},
   "outputs": [
    {
     "name": "stdout",
     "output_type": "stream",
     "text": [
      "+-------------------+----+---+-----+---+----+-----+-----+---+---+----+----+\n",
      "|              model| mpg|cyl| disp| hp|drat|   wt| qsec| vs| am|gear|carb|\n",
      "+-------------------+----+---+-----+---+----+-----+-----+---+---+----+----+\n",
      "|          Mazda RX4|  21|  6|  160|110| 3.9| 2.62|16.46|  0|  1|   4|   4|\n",
      "|      Mazda RX4 Wag|  21|  6|  160|110| 3.9|2.875|17.02|  0|  1|   4|   4|\n",
      "|         Datsun 710|22.8|  4|  108| 93|3.85| 2.32|18.61|  1|  1|   4|   1|\n",
      "|     Hornet 4 Drive|21.4|  6|  258|110|3.08|3.215|19.44|  1|  0|   3|   1|\n",
      "|  Hornet Sportabout|18.7|  8|  360|175|3.15| 3.44|17.02|  0|  0|   3|   2|\n",
      "|            Valiant|18.1|  6|  225|105|2.76| 3.46|20.22|  1|  0|   3|   1|\n",
      "|         Duster 360|14.3|  8|  360|245|3.21| 3.57|15.84|  0|  0|   3|   4|\n",
      "|          Merc 240D|24.4|  4|146.7| 62|3.69| 3.19|   20|  1|  0|   4|   2|\n",
      "|           Merc 230|22.8|  4|140.8| 95|3.92| 3.15| 22.9|  1|  0|   4|   2|\n",
      "|           Merc 280|19.2|  6|167.6|123|3.92| 3.44| 18.3|  1|  0|   4|   4|\n",
      "|          Merc 280C|17.8|  6|167.6|123|3.92| 3.44| 18.9|  1|  0|   4|   4|\n",
      "|         Merc 450SE|16.4|  8|275.8|180|3.07| 4.07| 17.4|  0|  0|   3|   3|\n",
      "|         Merc 450SL|17.3|  8|275.8|180|3.07| 3.73| 17.6|  0|  0|   3|   3|\n",
      "|        Merc 450SLC|15.2|  8|275.8|180|3.07| 3.78|   18|  0|  0|   3|   3|\n",
      "| Cadillac Fleetwood|10.4|  8|  472|205|2.93| 5.25|17.98|  0|  0|   3|   4|\n",
      "|Lincoln Continental|10.4|  8|  460|215|   3|5.424|17.82|  0|  0|   3|   4|\n",
      "|  Chrysler Imperial|14.7|  8|  440|230|3.23|5.345|17.42|  0|  0|   3|   4|\n",
      "|           Fiat 128|32.4|  4| 78.7| 66|4.08|  2.2|19.47|  1|  1|   4|   1|\n",
      "|        Honda Civic|30.4|  4| 75.7| 52|4.93|1.615|18.52|  1|  1|   4|   2|\n",
      "|     Toyota Corolla|33.9|  4| 71.1| 65|4.22|1.835| 19.9|  1|  1|   4|   1|\n",
      "+-------------------+----+---+-----+---+----+-----+-----+---+---+----+----+\n",
      "only showing top 20 rows\n",
      "\n"
     ]
    }
   ],
   "source": [
    "# TODO: Print/Dump the data\n",
    "# Hint : show()\n",
    "#mtcarsDF.???()\n",
    "mtcarsDF.show()"
   ]
  },
  {
   "cell_type": "markdown",
   "metadata": {
    "attributes": {
     "classes": [
      "console"
     ],
     "id": ""
    }
   },
   "source": [
    "Your output may look like this:\n",
    "\n",
    "```\n",
    "+-------------------+----+---+-----+---+----+-----+-----+---+---+----+----+\n",
    "|              model| mpg|cyl| disp| hp|drat|   wt| qsec| vs| am|gear|carb|\n",
    "+-------------------+----+---+-----+---+----+-----+-----+---+---+----+----+\n",
    "|          Mazda RX4|  21|  6|  160|110| 3.9| 2.62|16.46|  0|  1|   4|   4|\n",
    "|      Mazda RX4 Wag|  21|  6|  160|110| 3.9|2.875|17.02|  0|  1|   4|   4|\n",
    "|         Datsun 710|22.8|  4|  108| 93|3.85| 2.32|18.61|  1|  1|   4|   1|\n",
    "|     Hornet 4 Drive|21.4|  6|  258|110|3.08|3.215|19.44|  1|  0|   3|   1|\n",
    "...\n",
    "\n",
    "```"
   ]
  },
  {
   "cell_type": "code",
   "execution_count": 23,
   "metadata": {},
   "outputs": [
    {
     "name": "stdout",
     "output_type": "stream",
     "text": [
      "+-------------------+----+\n",
      "|              model| mpg|\n",
      "+-------------------+----+\n",
      "|          Mazda RX4|21.0|\n",
      "|      Mazda RX4 Wag|21.0|\n",
      "|         Datsun 710|22.8|\n",
      "|     Hornet 4 Drive|21.4|\n",
      "|  Hornet Sportabout|18.7|\n",
      "|            Valiant|18.1|\n",
      "|         Duster 360|14.3|\n",
      "|          Merc 240D|24.4|\n",
      "|           Merc 230|22.8|\n",
      "|           Merc 280|19.2|\n",
      "|          Merc 280C|17.8|\n",
      "|         Merc 450SE|16.4|\n",
      "|         Merc 450SL|17.3|\n",
      "|        Merc 450SLC|15.2|\n",
      "| Cadillac Fleetwood|10.4|\n",
      "|Lincoln Continental|10.4|\n",
      "|  Chrysler Imperial|14.7|\n",
      "|           Fiat 128|32.4|\n",
      "|        Honda Civic|30.4|\n",
      "|     Toyota Corolla|33.9|\n",
      "+-------------------+----+\n",
      "only showing top 20 rows\n",
      "\n"
     ]
    }
   ],
   "source": [
    "mpgDF = mtcarsDF.select(\"model\", mtcarsDF.mpg.cast(\"float\"))\n",
    "mpgDF.show()"
   ]
  },
  {
   "cell_type": "code",
   "execution_count": 24,
   "metadata": {},
   "outputs": [
    {
     "name": "stdout",
     "output_type": "stream",
     "text": [
      "created mpgDF temp table\n"
     ]
    }
   ],
   "source": [
    "#Register dataframe as a table\n",
    "mpgDF.createOrReplaceTempView(\"mpgDF\")\n",
    "print(\"created mpgDF temp table\")"
   ]
  },
  {
   "cell_type": "markdown",
   "metadata": {},
   "source": [
    "\n",
    "## STEP 3 : Define the UDF\n",
    "\n",
    "**==> Create a UDF to convert mpg to kml i.e. kilometers/litre**"
   ]
  },
  {
   "cell_type": "code",
   "execution_count": 25,
   "metadata": {
    "attributes": {
     "classes": [
      "scala"
     ],
     "id": ""
    },
    "scrolled": true
   },
   "outputs": [],
   "source": [
    "def mpg_to_kml(mpg):\n",
    "    kml = mpg * 1.6 / 3.7854\n",
    "    return kml"
   ]
  },
  {
   "cell_type": "code",
   "execution_count": 27,
   "metadata": {},
   "outputs": [
    {
     "data": {
      "text/plain": [
       "<function __main__.mpg_to_kml(mpg)>"
      ]
     },
     "execution_count": 27,
     "metadata": {},
     "output_type": "execute_result"
    }
   ],
   "source": [
    "#register the UDF with Spark SQL\n",
    "from pyspark.sql.types import FloatType\n",
    "sqlContext.udf.register(\"MPG_to_KmPerLiter\", mpg_to_kml, FloatType())"
   ]
  },
  {
   "cell_type": "code",
   "execution_count": 28,
   "metadata": {},
   "outputs": [
    {
     "name": "stdout",
     "output_type": "stream",
     "text": [
      "+-------------------+----------------------+\n",
      "|              model|MPG_to_KmPerLiter(mpg)|\n",
      "+-------------------+----------------------+\n",
      "|          Mazda RX4|              8.876208|\n",
      "|      Mazda RX4 Wag|              8.876208|\n",
      "|         Datsun 710|              9.637026|\n",
      "|     Hornet 4 Drive|             9.0452795|\n",
      "|  Hornet Sportabout|             7.9040527|\n",
      "|            Valiant|             7.6504464|\n",
      "|         Duster 360|             6.0442753|\n",
      "|          Merc 240D|             10.313309|\n",
      "|           Merc 230|              9.637026|\n",
      "|           Merc 280|              8.115391|\n",
      "|          Merc 280C|              7.523643|\n",
      "|         Merc 450SE|              6.931896|\n",
      "|         Merc 450SL|              7.312305|\n",
      "|        Merc 450SLC|              6.424684|\n",
      "| Cadillac Fleetwood|             4.3958364|\n",
      "|Lincoln Continental|             4.3958364|\n",
      "|  Chrysler Imperial|              6.213346|\n",
      "|           Fiat 128|             13.694722|\n",
      "|        Honda Civic|             12.849368|\n",
      "|     Toyota Corolla|             14.328737|\n",
      "+-------------------+----------------------+\n",
      "only showing top 20 rows\n",
      "\n"
     ]
    }
   ],
   "source": [
    "\n",
    "# Use the UDF in SQL\n",
    "\n",
    "resultDF = sqlContext.sql(\"select model, MPG_to_KmPerLiter(mpg) from mpgDF\")\n",
    "resultDF.show()"
   ]
  },
  {
   "cell_type": "markdown",
   "metadata": {},
   "source": [
    "## Step 5 : Use the UDF in DataFrame\n"
   ]
  },
  {
   "cell_type": "code",
   "execution_count": 30,
   "metadata": {
    "scrolled": true
   },
   "outputs": [
    {
     "data": {
      "text/plain": [
       "DataFrame[model: string, km_per_liter: float]"
      ]
     },
     "metadata": {},
     "output_type": "display_data"
    },
    {
     "name": "stdout",
     "output_type": "stream",
     "text": [
      "+-------------------+------------+\n",
      "|              model|km_per_liter|\n",
      "+-------------------+------------+\n",
      "|          Mazda RX4|    8.876208|\n",
      "|      Mazda RX4 Wag|    8.876208|\n",
      "|         Datsun 710|    9.637026|\n",
      "|     Hornet 4 Drive|   9.0452795|\n",
      "|  Hornet Sportabout|   7.9040527|\n",
      "|            Valiant|   7.6504464|\n",
      "|         Duster 360|   6.0442753|\n",
      "|          Merc 240D|   10.313309|\n",
      "|           Merc 230|    9.637026|\n",
      "|           Merc 280|    8.115391|\n",
      "|          Merc 280C|    7.523643|\n",
      "|         Merc 450SE|    6.931896|\n",
      "|         Merc 450SL|    7.312305|\n",
      "|        Merc 450SLC|    6.424684|\n",
      "| Cadillac Fleetwood|   4.3958364|\n",
      "|Lincoln Continental|   4.3958364|\n",
      "|  Chrysler Imperial|    6.213346|\n",
      "|           Fiat 128|   13.694722|\n",
      "|        Honda Civic|   12.849368|\n",
      "|     Toyota Corolla|   14.328737|\n",
      "+-------------------+------------+\n",
      "only showing top 20 rows\n",
      "\n"
     ]
    }
   ],
   "source": [
    "from pyspark.sql.functions import udf\n",
    "convert_udf = udf(mpg_to_kml, FloatType())\n",
    "\n",
    "resultsDF = mpgDF.select(\"model\", convert_udf(\"mpg\").alias(\"km_per_liter\"))\n",
    "display(resultsDF)\n",
    "resultsDF.show()\n",
    "\n"
   ]
  },
  {
   "cell_type": "code",
   "execution_count": null,
   "metadata": {},
   "outputs": [],
   "source": []
  }
 ],
 "metadata": {
  "kernelspec": {
   "display_name": "Python 3",
   "language": "python",
   "name": "python3"
  },
  "language_info": {
   "codemirror_mode": {
    "name": "ipython",
    "version": 3
   },
   "file_extension": ".py",
   "mimetype": "text/x-python",
   "name": "python",
   "nbconvert_exporter": "python",
   "pygments_lexer": "ipython3",
   "version": "3.6.8"
  }
 },
 "nbformat": 4,
 "nbformat_minor": 2
}
