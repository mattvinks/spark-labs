{
 "cells": [
  {
   "cell_type": "markdown",
   "metadata": {},
   "source": [
    "<link rel='stylesheet' href='../assets/css/main.css'/>\n",
    "\n",
    "[<< back to main index](../README.md)\n",
    "\n",
    "# Lab 3.6 :  Caching\n",
    "\n",
    "\n",
    "### Overview\n",
    "Understanding Spark caching\n",
    "\n",
    "### Depends On \n",
    "None\n",
    "\n",
    "### Run time\n",
    "15-20 mins\n",
    "\n",
    "\n",
    "## Step 1: 'Large' data set\n",
    "\n",
    "Under `/data/text/twinkle` directory we have created some large data files for you. \n",
    "\n",
    "<img src=\"../assets/images/3.1a.png\" style=\"border: 5px solid grey; max-width:100%;\"/>\n",
    "\n",
    "\n",
    "#### Optional Step\n",
    "You can generate more data if you'd like.\n",
    "```bash\n",
    "    $    cd /data/text/twinkle\n",
    "    $    ./create-data-files.sh\n",
    "```"
   ]
  },
  {
   "cell_type": "code",
   "execution_count": 1,
   "metadata": {},
   "outputs": [
    {
     "name": "stdout",
     "output_type": "stream",
     "text": [
      "Initializing Spark...\n",
      "Spark found in :  /home/ubuntu/spark\n",
      "Spark config:\n",
      "\t spark.app.name=TestApp\n",
      "\tspark.master=local[*]\n",
      "\texecutor.memory=2g\n",
      "\tspark.sql.warehouse.dir=/tmp/tmpxj3u3c8r\n",
      "\tsome_property=some_value\n",
      "Spark UI running on port 4040\n"
     ]
    }
   ],
   "source": [
    "# initialize Spark Session\n",
    "import os\n",
    "import sys\n",
    "top_dir = os.path.abspath(os.path.join(os.getcwd(), \"../\"))\n",
    "if top_dir not in sys.path:\n",
    "    sys.path.append(top_dir)\n",
    "\n",
    "from init_spark import init_spark\n",
    "spark = init_spark()\n",
    "sc = spark.sparkContext"
   ]
  },
  {
   "cell_type": "markdown",
   "metadata": {},
   "source": [
    "## Step 2: Log Level\n",
    "Also set the logging level to INFO (so Spark will print out job execution times on console)"
   ]
  },
  {
   "cell_type": "code",
   "execution_count": 2,
   "metadata": {
    "collapsed": true
   },
   "outputs": [
    {
     "name": "stdout",
     "output_type": "stream",
     "text": [
      "set log level to INFO\n"
     ]
    }
   ],
   "source": [
    "sc.setLogLevel(\"INFO\")\n",
    "print(\"set log level to INFO\")"
   ]
  },
  {
   "cell_type": "markdown",
   "metadata": {},
   "source": [
    "## STEP 3: Recording Caching times\n",
    "### Download and inspect the Excel worksheet : [caching-worksheet](caching-worksheet.xlsx).   \n",
    "\n",
    "We are going to fill in the values here to understand how caching performs.\n",
    "\n",
    "It looks like this:\n",
    "<img src=\"../assets/images/3.6a.png\" style=\"border: 5px solid grey; max-width:100%;\"/>\n",
    "\n",
    "\n",
    "## STEP 4: Load Data\n",
    "\n",
    "Load a big file (e.g 500M.data)"
   ]
  },
  {
   "cell_type": "code",
   "execution_count": 5,
   "metadata": {
    "collapsed": true
   },
   "outputs": [
    {
     "name": "stdout",
     "output_type": "stream",
     "text": [
      "read file  DataFrame[value: string]\n"
     ]
    }
   ],
   "source": [
    "f = spark.read.text(\"/data/text/twinkle/500M.data\")\n",
    "print(\"read file \", f)"
   ]
  },
  {
   "cell_type": "markdown",
   "metadata": {},
   "source": [
    "**=> Count the number of lines in this file**    "
   ]
  },
  {
   "cell_type": "code",
   "execution_count": 6,
   "metadata": {
    "collapsed": true
   },
   "outputs": [
    {
     "name": "stdout",
     "output_type": "stream",
     "text": [
      "15650389\n"
     ]
    }
   ],
   "source": [
    "print(f.count())\n",
    "\n",
    "# output might look like\n",
    "# Job 1 finished: count at <console>:30, took __3.792822__ s"
   ]
  },
  {
   "cell_type": "markdown",
   "metadata": {},
   "source": [
    "**=> Observe time taken on Spark UI**  \n",
    "**=> Record the time in spread sheet**  \n",
    "**=> Run 'count' below a couple of times and observe the time**  \n",
    "**=> Can you explain the behavior of count() execution time ?**"
   ]
  },
  {
   "cell_type": "code",
   "execution_count": 7,
   "metadata": {
    "collapsed": true
   },
   "outputs": [
    {
     "name": "stdout",
     "output_type": "stream",
     "text": [
      "15650389\n",
      "15650389\n"
     ]
    }
   ],
   "source": [
    "print (f.count())\n",
    "print (f.count())"
   ]
  },
  {
   "cell_type": "markdown",
   "metadata": {},
   "source": [
    "\n",
    "## STEP 5:  Cache\n",
    "\n",
    "**=> Cache the file using  `cache()` action.**"
   ]
  },
  {
   "cell_type": "code",
   "execution_count": 8,
   "metadata": {
    "collapsed": true
   },
   "outputs": [
    {
     "name": "stdout",
     "output_type": "stream",
     "text": [
      "done caching\n"
     ]
    }
   ],
   "source": [
    "f.cache()\n",
    "print (\"done caching\")"
   ]
  },
  {
   "cell_type": "code",
   "execution_count": null,
   "metadata": {
    "collapsed": true
   },
   "outputs": [],
   "source": [
    "**=> Run the `count()` again. Notice the time.   Can you explain this behavior ?  :-)** "
   ]
  },
  {
   "cell_type": "code",
   "execution_count": 9,
   "metadata": {
    "collapsed": true
   },
   "outputs": [
    {
     "name": "stdout",
     "output_type": "stream",
     "text": [
      "15650389\n"
     ]
    }
   ],
   "source": [
    "print (f.count())"
   ]
  },
  {
   "cell_type": "markdown",
   "metadata": {},
   "source": [
    "**=> Run count() a few more times and note the execution times.**  \n",
    "**=> Record the time in spreadsheet.**  \n",
    "**=> Do the timings make sense?** "
   ]
  },
  {
   "cell_type": "code",
   "execution_count": 10,
   "metadata": {
    "collapsed": true
   },
   "outputs": [
    {
     "name": "stdout",
     "output_type": "stream",
     "text": [
      "15650389\n",
      "15650389\n"
     ]
    }
   ],
   "source": [
    "print (f.count())\n",
    "print (f.count())"
   ]
  },
  {
   "cell_type": "markdown",
   "metadata": {},
   "source": [
    "## STEP 6:  Understanding Cache storage\n",
    "\n",
    "Go to spark shell UI @ port 4040  \n",
    "**=> Inspect 'storage' tab**  \n",
    "\n",
    "<img src=\"../assets/images/3.6b.png\" style=\"border: 5px solid grey; max-width:100%;\"/>\n",
    "\n",
    "**=> Can you see the cached data?  What is the memory size?**  \n",
    "**=> What are the implications?** \n",
    "\n"
   ]
  },
  {
   "cell_type": "markdown",
   "metadata": {},
   "source": [
    "## Step 7 : Caching RDD vs. Dataframe\n",
    "We will load the same data using RDD API and Dataframe API will compare cache performance."
   ]
  },
  {
   "cell_type": "code",
   "execution_count": 11,
   "metadata": {},
   "outputs": [
    {
     "name": "stdout",
     "output_type": "stream",
     "text": [
      "creating 100M random data\n",
      "100+0 records in\n",
      "100+0 records out\n",
      "104857600 bytes (105 MB, 100 MiB) copied, 7.95856 s, 13.2 MB/s\n",
      "done\n"
     ]
    }
   ],
   "source": [
    "## Create some random data\n",
    "print(\"creating 100M random data\")\n",
    "!dd if=/dev/urandom of=/data/100M-rand  bs=1M count=100\n",
    "print(\"done\")"
   ]
  },
  {
   "cell_type": "code",
   "execution_count": 12,
   "metadata": {
    "attributes": {
     "classes": [
      "scala"
     ],
     "id": ""
    }
   },
   "outputs": [
    {
     "name": "stdout",
     "output_type": "stream",
     "text": [
      "rdd count  818067\n",
      "df count  818067\n"
     ]
    }
   ],
   "source": [
    "#RDD\n",
    "rdd = sc.textFile(\"/data/100M-rand\")\n",
    "rdd.cache()\n",
    "print(\"rdd count \" , rdd.count())  # force caching\n",
    "\n",
    "df  = spark.read.text(\"/data/100M-rand\")\n",
    "df.cache()\n",
    "print(\"df count \", df.count())"
   ]
  },
  {
   "cell_type": "markdown",
   "metadata": {},
   "source": [
    "Now check the 'Storage' tab in Spark Shell UI (port 4040).  \n",
    "\n",
    "Here is a sample output.\n",
    "\n",
    "<img src=\"../assets/images/3.6c-rdd-ds-cache.png\" style=\"border: 5px solid grey; max-width:100%;\"/>\n",
    "\n",
    "**==> Discuss your findings**\n",
    "\n",
    "\n",
    "\n",
    "## Step 8 : Reducing memory footprint \n",
    "\n",
    "There are various levels of memory caching.  Here are a couple:  \n",
    "\n",
    "* Raw caching (`data.persist(org.apache.spark.storage.StorageLevel.MEMORY_ONLY)`)  \n",
    "* Serialized Caching (`data.persist(org.apache.spark.storage.StorageLevel.MEMORY_ONLY_SER)`)\n",
    "\n",
    "\n",
    "**=> Try both options `f.persist(....)` .  Monitor memory consumption in storage tab**\n",
    "\n",
    "**Note: Caching level can not be changed after an RDD cached.  You have to 'uncache / unpersist' the RDD and then cache it again**"
   ]
  },
  {
   "cell_type": "code",
   "execution_count": 13,
   "metadata": {
    "attributes": {
     "classes": [
      "scala"
     ],
     "id": ""
    },
    "collapsed": true
   },
   "outputs": [
    {
     "data": {
      "text/plain": [
       "DataFrame[value: string]"
      ]
     },
     "execution_count": 13,
     "metadata": {},
     "output_type": "execute_result"
    }
   ],
   "source": [
    "import pyspark\n",
    "\n",
    "data = spark.read.text(\"/data/text/twinkle/500M.data\")\n",
    "data.persist(pyspark.StorageLevel.MEMORY_ONLY) # same as data.cache()\n",
    "## TODO :  measure the storage footprint using 'storage' tab"
   ]
  },
  {
   "cell_type": "code",
   "execution_count": 14,
   "metadata": {
    "collapsed": true
   },
   "outputs": [
    {
     "data": {
      "text/plain": [
       "DataFrame[value: string]"
      ]
     },
     "execution_count": 14,
     "metadata": {},
     "output_type": "execute_result"
    }
   ],
   "source": [
    "data.unpersist()\n",
    "data.persist(pyspark.StorageLevel.MEMORY_ONLY_SER)\n",
    "## TODO :  measure the storage footprint using 'storage' tab"
   ]
  },
  {
   "cell_type": "markdown",
   "metadata": {},
   "source": [
    "### Group discussion\n",
    "\n",
    "* mechanics of caching\n",
    "* implications of caching vs memory\n",
    "\n",
    "### Further Reading\n",
    "\n",
    "* [Understanding Spark Caching by Sujee Maniyam](http://sujee.net/2015/01/22/understanding-spark-caching/)"
   ]
  }
 ],
 "metadata": {
  "kernelspec": {
   "display_name": "Python 3",
   "language": "python",
   "name": "python3"
  },
  "language_info": {
   "codemirror_mode": {
    "name": "ipython",
    "version": 3
   },
   "file_extension": ".py",
   "mimetype": "text/x-python",
   "name": "python",
   "nbconvert_exporter": "python",
   "pygments_lexer": "ipython3",
   "version": "3.6.8"
  }
 },
 "nbformat": 4,
 "nbformat_minor": 2
}
