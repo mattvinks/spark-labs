{
 "cells": [
  {
   "cell_type": "markdown",
   "metadata": {},
   "source": [
    "<link rel='stylesheet' href='../assets/css/main.css'/>\n",
    "\n",
    "[<< back to main index](../README.md)\n",
    "\n",
    "Lab 3.2 : Operations On Multiple RDDs\n",
    "=====================================\n",
    "### Overview\n",
    "learn operations that work with multiple RDDs\n",
    "\n",
    "### Depends On \n",
    "None\n",
    "\n",
    "### Run time\n",
    "15 mins\n",
    "\n",
    "### RDD Documentation : \n",
    "http://spark.apache.org/docs/latest/\n",
    "\n",
    "\n",
    "--------\n",
    "Meetup Recommendation\n",
    "--------\n",
    "User1 attends meetups  m1, m2 and m3.  \n",
    "User2 attends meetups  m2, m3, m4  and m5\n",
    "\n",
    "<img src=\"../assets/images/3.2.png\" style=\"border: 5px solid grey; max-width:100%;\"/>\n",
    "\n",
    "**Find meetups common to both users** \n",
    "\n",
    "**Find meetups attened by either user1 or user2**  \n",
    "**Note there are duplicates in result.  How will you remove dupes?**\n",
    "\n",
    "**Find meetups that only user1 attends**\n",
    "\n",
    "**Recommending meetups to user**   \n",
    "user1 and user2 has a couple of meetups in common.  Let's use to this to recommend meetups to both users  \n",
    "* meetups recommended for user1 : m4 & m5\n",
    "* meetups recommended for user2 : m1\n",
    "\n",
    "\n",
    "-----\n",
    "Hints\n",
    "-----\n",
    "\n",
    "### Step 1: start pyspark shell, or complete the steps here in the notebook."
   ]
  },
  {
   "cell_type": "markdown",
   "metadata": {},
   "source": [
    "### Step 2: create data sets using parallelize() method"
   ]
  },
  {
   "cell_type": "code",
   "execution_count": 3,
   "metadata": {},
   "outputs": [
    {
     "name": "stdout",
     "output_type": "stream",
     "text": [
      "Initializing Spark...\n",
      "Spark found in :  /home/ubuntu/spark\n",
      "Spark config:\n",
      "\t executor.memory=2g\n",
      "\tsome_property=some_value\n",
      "\tspark.app.name=TestApp\n",
      "\tspark.master=local[*]\n",
      "\tspark.sql.warehouse.dir=/tmp/tmpnsz8hg7g\n",
      "\tspark.submit.deployMode=client\n",
      "\tspark.ui.showConsoleProgress=true\n",
      "Spark UI running on port 4046\n"
     ]
    }
   ],
   "source": [
    "# initialize Spark Session\n",
    "import os\n",
    "import sys\n",
    "top_dir = os.path.abspath(os.path.join(os.getcwd(), \"../\"))\n",
    "if top_dir not in sys.path:\n",
    "    sys.path.append(top_dir)\n",
    "\n",
    "from init_spark import init_spark\n",
    "spark = init_spark()\n",
    "sc = spark.sparkContext"
   ]
  },
  {
   "cell_type": "code",
   "execution_count": 4,
   "metadata": {
    "attributes": {
     "classes": [
      "scala"
     ],
     "id": ""
    },
    "collapsed": true
   },
   "outputs": [],
   "source": [
    "u1 = sc.parallelize([\"m1\", \"m2\", \"m3\"])\n",
    "u2 = sc.parallelize([\"m2\", \"m3\", \"m4\", \"m5\"])"
   ]
  },
  {
   "cell_type": "markdown",
   "metadata": {},
   "source": [
    "### Step 3 : try the following operations in RDDs\n",
    "`union`, `intersection`,  `distinct`,  `subtract`"
   ]
  },
  {
   "cell_type": "code",
   "execution_count": 16,
   "metadata": {
    "collapsed": true
   },
   "outputs": [
    {
     "data": {
      "text/plain": [
       "['m5', 'm4']"
      ]
     },
     "execution_count": 16,
     "metadata": {},
     "output_type": "execute_result"
    }
   ],
   "source": [
    "#TODO: try union, intersection distinct, subtract\n",
    "test = u1.union(u2)\n",
    "\n",
    "test2 = u2.intersection(u1)\n",
    "test2.collect()\n",
    "t3 = test.distinct()\n",
    "t3.collect()\n",
    "t4 = test.subtract(u1)\n",
    "t4.collect()"
   ]
  },
  {
   "cell_type": "code",
   "execution_count": null,
   "metadata": {},
   "outputs": [],
   "source": []
  }
 ],
 "metadata": {
  "kernelspec": {
   "display_name": "Python 3",
   "language": "python",
   "name": "python3"
  },
  "language_info": {
   "codemirror_mode": {
    "name": "ipython",
    "version": 3
   },
   "file_extension": ".py",
   "mimetype": "text/x-python",
   "name": "python",
   "nbconvert_exporter": "python",
   "pygments_lexer": "ipython3",
   "version": "3.6.8"
  }
 },
 "nbformat": 4,
 "nbformat_minor": 2
}
