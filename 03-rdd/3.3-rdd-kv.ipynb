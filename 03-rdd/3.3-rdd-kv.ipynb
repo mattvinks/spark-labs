{
 "cells": [
  {
   "cell_type": "markdown",
   "metadata": {},
   "source": [
    "<link rel='stylesheet' href='../assets/css/main.css'/>\n",
    "\n",
    "[<< back to main index](../README.md)\n",
    "\n",
    "Lab 3.3 : Key/Value Pair RDDs\n",
    "=============================\n",
    "### Overview\n",
    "Learn to work with \n",
    "\n",
    "### Depends On \n",
    "[3.2 multi RDD operations](2-rdd-multi.md)\n",
    "\n",
    "### Run time\n",
    "20-30 mins\n",
    "\n",
    "\n",
    "----------------------------\n",
    "Meetup Recommendation Take 2\n",
    "----------------------------\n",
    "In the previous lab we created datasets using `parallelize` keyword.  In this lab we are going to load key/value RDDs from files.\n",
    "\n",
    "\n",
    "----------------------------\n",
    "Analyzing Meetup Data\n",
    "----------------------------\n",
    "\n",
    "## Step 1 : Start Spark Shell\n",
    "Change working directory to `spark-labs`.  This way, we can access data using relative paths (makes life simpler)"
   ]
  },
  {
   "cell_type": "markdown",
   "metadata": {},
   "source": [
    "```bash\n",
    "    $   cd ~/spark-labs\n",
    "    $   ~/spark/bin/spark-shell\n",
    "```"
   ]
  },
  {
   "cell_type": "markdown",
   "metadata": {},
   "source": [
    "## Step 2: Load data\n",
    "The file [data/meetup/meetup.csv](/data/meetup/meetup.csv)  has following contents"
   ]
  },
  {
   "cell_type": "markdown",
   "metadata": {},
   "source": [
    "```\n",
    "    u1,m1\n",
    "    u2,m2\n",
    "    u1,m2\n",
    "    u3,m1\n",
    "    u2,m3\n",
    "    u2,m4\n",
    "    u3,m5\n",
    "    u1,m3\n",
    "    u2,m5\n",
    "    u4,m6\n",
    "    u5,m1\n",
    "```"
   ]
  },
  {
   "cell_type": "code",
   "execution_count": 5,
   "metadata": {
    "attributes": {
     "classes": [
      "scala"
     ],
     "id": ""
    },
    "collapsed": true
   },
   "outputs": [],
   "source": [
    "meetups = sc.textFile(\"/data/meetup/meetup.csv\")"
   ]
  },
  {
   "cell_type": "markdown",
   "metadata": {},
   "source": [
    "**=> Print the content of variable `meetups`**  \n",
    "Hint : `collect`  \n",
    "\n",
    "`meetups` is an RDD of strings.\n",
    "\n"
   ]
  },
  {
   "cell_type": "code",
   "execution_count": 6,
   "metadata": {
    "collapsed": false
   },
   "outputs": [
    {
     "data": {
      "text/plain": [
       "['u1,m1',\n",
       " 'u2,m2',\n",
       " 'u1,m2',\n",
       " 'u3,m1',\n",
       " 'u2,m3',\n",
       " 'u2,m4',\n",
       " 'u3,m5',\n",
       " 'u1,m3',\n",
       " 'u2,m5',\n",
       " 'u4,m6',\n",
       " 'u5,m1',\n",
       " 'u6,m2',\n",
       " 'u7,m3',\n",
       " 'u8,m1']"
      ]
     },
     "execution_count": 6,
     "metadata": {},
     "output_type": "execute_result"
    }
   ],
   "source": [
    "# TODO: print the contents of meetups\n",
    "meetups.collect()\n"
   ]
  },
  {
   "cell_type": "markdown",
   "metadata": {},
   "source": [
    "## Step 3 : Creating a key-value pair RDD \n",
    "Use `map` to create pair RDD"
   ]
  },
  {
   "cell_type": "code",
   "execution_count": 7,
   "metadata": {
    "attributes": {
     "classes": [
      "scala"
     ],
     "id": ""
    },
    "collapsed": false
   },
   "outputs": [],
   "source": [
    "userMeetupsKV = meetups.map(lambda line : (line.split(\",\")[0], line.split(\",\")[1]))"
   ]
  },
  {
   "cell_type": "markdown",
   "metadata": {},
   "source": [
    "**=> See the 'RDD lineage' of `userMeetupsKV`**  \n",
    "Hint : `userMeetupsKV.toDebugString`"
   ]
  },
  {
   "cell_type": "code",
   "execution_count": 8,
   "metadata": {
    "collapsed": false,
    "scrolled": true
   },
   "outputs": [
    {
     "data": {
      "text/plain": [
       "b'(2) PythonRDD[5] at RDD at PythonRDD.scala:48 []\\n |  /data/meetup/meetup.csv MapPartitionsRDD[4] at textFile at NativeMethodAccessorImpl.java:-2 []\\n |  /data/meetup/meetup.csv HadoopRDD[3] at textFile at NativeMethodAccessorImpl.java:-2 []'"
      ]
     },
     "execution_count": 8,
     "metadata": {},
     "output_type": "execute_result"
    }
   ],
   "source": [
    "# TODO find the lineage of RDD.\n",
    "\n",
    "userMeetupsKV.toDebugString()"
   ]
  },
  {
   "cell_type": "markdown",
   "metadata": {},
   "source": [
    " read from bottom up\n",
    "```\n",
    "b'(2) PythonRDD[5] at RDD at PythonRDD.scala:48 []\\n \n",
    "|  /data/meetup/meetup.csv MapPartitionsRDD[4] at textFile at NativeMethodAccessorImpl.java:-2 []\\n \n",
    "|  /data/meetup/meetup.csv HadoopRDD[3] at textFile at NativeMethodAccessorImpl.java:-2 []'\n",
    "```"
   ]
  },
  {
   "cell_type": "markdown",
   "metadata": {},
   "source": [
    "**=> Print the contents of `userMeetupsKV`**\n",
    "\n",
    "**=> What is resulting RDD type from this?**"
   ]
  },
  {
   "cell_type": "code",
   "execution_count": null,
   "metadata": {
    "collapsed": true
   },
   "outputs": [],
   "source": [
    "# TODO: Print contents of userMeetupsKV and find the RDD type\n",
    "\n"
   ]
  },
  {
   "cell_type": "code",
   "execution_count": 10,
   "metadata": {
    "collapsed": true
   },
   "outputs": [],
   "source": [
    "x = meetups.map(lambda line: line.split(\",\"))"
   ]
  },
  {
   "cell_type": "markdown",
   "metadata": {},
   "source": [
    "## Step 4 : RDD Operations\n",
    "\n",
    "**=> Find all meetups per user**  \n",
    "Hint : `groupByKey`\n"
   ]
  },
  {
   "cell_type": "code",
   "execution_count": null,
   "metadata": {
    "collapsed": true
   },
   "outputs": [],
   "source": [
    "# TODO: find meetups by user\n",
    "\n"
   ]
  },
  {
   "cell_type": "markdown",
   "metadata": {},
   "source": [
    "**=> Print the lineage of grouped RDD**  \n",
    "Hint : `toDebugString`"
   ]
  },
  {
   "cell_type": "code",
   "execution_count": null,
   "metadata": {
    "collapsed": true
   },
   "outputs": [],
   "source": [
    "userMeetupsKV.groupByKey().toDebugString()"
   ]
  },
  {
   "cell_type": "markdown",
   "metadata": {},
   "source": [
    "**=> See DAG for groupby execution**  \n",
    "Execute the following in Shell"
   ]
  },
  {
   "cell_type": "code",
   "execution_count": 11,
   "metadata": {
    "attributes": {
     "classes": [
      "scala"
     ],
     "id": ""
    },
    "collapsed": false
   },
   "outputs": [
    {
     "data": {
      "text/plain": [
       "[('u8', <pyspark.resultiterable.ResultIterable at 0x1095162b0>),\n",
       " ('u5', <pyspark.resultiterable.ResultIterable at 0x1095162e8>),\n",
       " ('u6', <pyspark.resultiterable.ResultIterable at 0x109516470>),\n",
       " ('u7', <pyspark.resultiterable.ResultIterable at 0x109516390>),\n",
       " ('u2', <pyspark.resultiterable.ResultIterable at 0x1095164e0>),\n",
       " ('u1', <pyspark.resultiterable.ResultIterable at 0x109516588>),\n",
       " ('u4', <pyspark.resultiterable.ResultIterable at 0x109516828>),\n",
       " ('u3', <pyspark.resultiterable.ResultIterable at 0x1095166d8>)]"
      ]
     },
     "execution_count": 11,
     "metadata": {},
     "output_type": "execute_result"
    }
   ],
   "source": [
    "userMeetupsKV.groupByKey().collect()"
   ]
  },
  {
   "cell_type": "markdown",
   "metadata": {},
   "source": [
    "And inspect the **Spark Shell UI (port 4040)** and look at the **DAG** for this execution.  You might see something like this.  \n",
    "Notice how `groupByKey` is done in another stage.\n",
    "\n",
    "<img src=\"../assets/images/3.3a.png\" style=\"border: 5px solid grey; max-width:100%;\"/>\n",
    "\n",
    "**=> Find meetups for user 'u1'**  \n",
    "Hint : `filter`  \n",
    "`rdd.filter{case (k,v) => k == \"u1\"}`\n",
    "\n",
    "**=> Find number of meetups per user**  \n",
    "Hint : `countByKey`\n",
    "\n",
    "**=> Find all unique meetups in the dataset**  \n",
    "Hint : `values` and `distinct`\n",
    "\n",
    "**=> Sort the output of above**  \n",
    "Hint : `sorted`\n",
    "\n",
    "\n",
    "----------------------------\n",
    "More RDD Operations\n",
    "----------------------------\n",
    "## Step 5 : Create an RDD with meetup as key\n",
    "For some operations we need to swap key and value pair.\n",
    "Here is how..."
   ]
  },
  {
   "cell_type": "code",
   "execution_count": null,
   "metadata": {
    "attributes": {
     "classes": [
      "scala"
     ],
     "id": ""
    },
    "collapsed": true
   },
   "outputs": [],
   "source": [
    "#from original dataset\n",
    "meetups = sc.textFile(\"data/meetup/meetup.csv\")\n",
    "meetupUsersKV = meetups.map(lambda line : (line.split(\",\")[1], line.split(\",\")[0]))\n"
   ]
  },
  {
   "cell_type": "code",
   "execution_count": 14,
   "metadata": {
    "collapsed": false
   },
   "outputs": [],
   "source": [
    "\n",
    "#swapping an already existing KV RDD\n",
    "meetupUsersKV = userMeetupsKV.map(lambda kv:(kv(1), kv(0)))"
   ]
  },
  {
   "cell_type": "markdown",
   "metadata": {},
   "source": [
    "**=> Find all users for each meetup**\n",
    "\n",
    "**=> Find number of users for each meetup**\n",
    "\n",
    "**=> Sort the meetup by most popular to least**  \n",
    "Hint : We need to sort the results.  One option is converting the Map to a List and sorting it. Try this  \n",
    "`meetupUserCount.toSeq.sortWith((a,b) => a._2 > b._2)`\n"
   ]
  },
  {
   "cell_type": "markdown",
   "metadata": {},
   "source": [
    "\n",
    "----------------\n",
    "Join Operations\n",
    "----------------\n",
    "## Step 6 : Load Users Dataset\n",
    "The file [data/meetup/users.csv](/data/meetup/users.csv) contains users data in the following format"
   ]
  },
  {
   "cell_type": "code",
   "execution_count": null,
   "metadata": {
    "collapsed": true
   },
   "outputs": [],
   "source": [
    "```\n",
    "   userid, gender, languages(note - separated by ;)\n",
    "\n",
    "    u1,M,Java;Ruby\n",
    "    u2,F,Scala;Python;Erlang\n",
    "    u3,M,Java;Scala\n",
    "    u4,F,C++;PHP;Go\n",
    "    u5,M,Scala;Python\n",
    "    u6,M,Go;Shell;C++\n",
    "    u7,F,PHP;Ruby\n",
    "    u8,F,Python;Erlang\n",
    "    u9,M,Java;C++\n",
    "    u10,M,Java\n",
    "```"
   ]
  },
  {
   "cell_type": "markdown",
   "metadata": {},
   "source": [
    "**=> Load the user data set**"
   ]
  },
  {
   "cell_type": "code",
   "execution_count": null,
   "metadata": {
    "attributes": {
     "classes": [
      "scala"
     ],
     "id": ""
    },
    "collapsed": true
   },
   "outputs": [],
   "source": [
    "    // ===== Scala =====\n",
    "    val users = sc.textFile(\"data/meetup/users.csv\")\n",
    "    // create user RDD : user -> gender\n",
    "    val usersKV = users.map(line => {\n",
    "                        val tokens = line.split(\",\")\n",
    "                        val userName = tokens(0) // first\n",
    "                        val gender = tokens(1) // second\n",
    "                        val langs = tokens(2).split(\";\") // third, create lang array\n",
    "    \n",
    "                        // TODO : just return user and gender\n",
    "                        (???, ???)\n",
    "                        })\n",
    "    usersKV.collect"
   ]
  },
  {
   "cell_type": "markdown",
   "metadata": {},
   "source": [
    "## Step 7 : Join User data and Meetup data"
   ]
  },
  {
   "cell_type": "code",
   "execution_count": null,
   "metadata": {
    "attributes": {
     "classes": [
      "scala"
     ],
     "id": ""
    },
    "collapsed": true
   },
   "outputs": [],
   "source": [
    "    // ===== Scala =====\n",
    "    val joinedUsersMeetups = usersKV.join(userMeetupsKV)\n",
    "    joinedUsersMeetups.collect\n",
    "    //  Array[(String, (String, String))] = Array((u5,(M,m1)), (u3,(M,m1)), \n",
    "    // ..."
   ]
  },
  {
   "cell_type": "markdown",
   "metadata": {},
   "source": [
    "**=> Inspect the RDD type for `joinedUsersMeetups`**\n",
    "\n",
    "\n",
    "## Step 8 : Meetups and Gender\n",
    "Using `joinedUsersMeetups` RDD, create a new RDD as gender as key and meetup as value"
   ]
  },
  {
   "cell_type": "code",
   "execution_count": null,
   "metadata": {
    "attributes": {
     "classes": [
      "scala"
     ],
     "id": ""
    },
    "collapsed": true
   },
   "outputs": [],
   "source": [
    "    // ===== Scala =====\n",
    "    // gender -> meetup\n",
    "    val genderMeetups = joinedUsersMeetups.map{\n",
    "        case (user, (gender, meetup)) => (???, ???)  // TODO : return the correct values\n",
    "        }\n",
    "    genderMeetups.collect"
   ]
  },
  {
   "cell_type": "markdown",
   "metadata": {},
   "source": [
    "**=> Calculate how many Male / Females attend meetups (overall distribution)** \n",
    "\n",
    "## Bonus Lab \n",
    "Create an RDD with meetup as key and gender as value.  \n",
    "What kind of interesting facts you can find from this RDD?"
   ]
  }
 ],
 "metadata": {
  "kernelspec": {
   "display_name": "Python 3",
   "language": "python",
   "name": "python3"
  },
  "language_info": {
   "codemirror_mode": {
    "name": "ipython",
    "version": 3
   },
   "file_extension": ".py",
   "mimetype": "text/x-python",
   "name": "python",
   "nbconvert_exporter": "python",
   "pygments_lexer": "ipython3",
   "version": "3.6.8"
  }
 },
 "nbformat": 4,
 "nbformat_minor": 2
}
