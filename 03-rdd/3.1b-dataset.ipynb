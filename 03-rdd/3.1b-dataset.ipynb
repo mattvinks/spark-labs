{
 "cells": [
  {
   "cell_type": "markdown",
   "metadata": {},
   "source": [
    "# Lab 3.1b : Python Dataframe Basics operations"
   ]
  },
  {
   "cell_type": "code",
   "execution_count": 1,
   "metadata": {},
   "outputs": [
    {
     "name": "stdout",
     "output_type": "stream",
     "text": [
      "Initializing Spark...\n",
      "Spark found in :  /home/ubuntu/spark\n",
      "Spark config:\n",
      "\t spark.app.name=TestApp\n",
      "\tspark.master=local[*]\n",
      "\texecutor.memory=2g\n",
      "\tspark.sql.warehouse.dir=/tmp/tmpcufg6ort\n",
      "\tsome_property=some_value\n",
      "Spark UI running on port 4045\n"
     ]
    }
   ],
   "source": [
    "# initialize Spark Session\n",
    "import os\n",
    "import sys\n",
    "top_dir = os.path.abspath(os.path.join(os.getcwd(), \"../\"))\n",
    "if top_dir not in sys.path:\n",
    "    sys.path.append(top_dir)\n",
    "\n",
    "from init_spark import init_spark\n",
    "spark = init_spark()"
   ]
  },
  {
   "cell_type": "markdown",
   "metadata": {},
   "source": [
    "## Step 1 : Load sample file"
   ]
  },
  {
   "cell_type": "code",
   "execution_count": 2,
   "metadata": {
    "collapsed": true
   },
   "outputs": [
    {
     "name": "stdout",
     "output_type": "stream",
     "text": [
      "5\n",
      "+--------------------+\n",
      "|               value|\n",
      "+--------------------+\n",
      "|twinkle twinkle l...|\n",
      "|how I wonder what...|\n",
      "|up above the worl...|\n",
      "|like a diamond in...|\n",
      "|twinkle twinkle l...|\n",
      "+--------------------+\n",
      "\n"
     ]
    }
   ],
   "source": [
    "f = spark.read.text(\"/data/text/twinkle/sample.txt\")\n",
    "print(f.count())\n",
    "f.show()"
   ]
  },
  {
   "cell_type": "markdown",
   "metadata": {},
   "source": [
    "## Filter\n",
    "Note we are referring to 'value'"
   ]
  },
  {
   "cell_type": "code",
   "execution_count": 3,
   "metadata": {
    "collapsed": true
   },
   "outputs": [
    {
     "name": "stdout",
     "output_type": "stream",
     "text": [
      "2\n",
      "+--------------------+\n",
      "|               value|\n",
      "+--------------------+\n",
      "|twinkle twinkle l...|\n",
      "|twinkle twinkle l...|\n",
      "+--------------------+\n",
      "\n"
     ]
    }
   ],
   "source": [
    "# both f.value and f[\"value\"] will work\n",
    "# later version recommended\n",
    "\n",
    "filtered = f.filter(f.value.contains(\"twinkle\"))\n",
    "filtered = f.filter(f[\"value\"].contains(\"twinkle\"))\n",
    "print(filtered.count())\n",
    "filtered.show()"
   ]
  },
  {
   "cell_type": "markdown",
   "metadata": {},
   "source": [
    "## Checkout Spark Shell UI (4040)\n",
    "\n",
    "Also see the DAG visualizations"
   ]
  },
  {
   "cell_type": "markdown",
   "metadata": {},
   "source": [
    "## Load larger dataset"
   ]
  },
  {
   "cell_type": "code",
   "execution_count": 4,
   "metadata": {
    "collapsed": true
   },
   "outputs": [
    {
     "name": "stdout",
     "output_type": "stream",
     "text": [
      "3130078\n",
      "+--------------------+\n",
      "|               value|\n",
      "+--------------------+\n",
      "|twinkle twinkle l...|\n",
      "|how I wonder what...|\n",
      "|up above the worl...|\n",
      "|like a diamond in...|\n",
      "|twinkle twinkle l...|\n",
      "|how I wonder what...|\n",
      "|up above the worl...|\n",
      "|like a diamond in...|\n",
      "|twinkle twinkle l...|\n",
      "|how I wonder what...|\n",
      "|up above the worl...|\n",
      "|like a diamond in...|\n",
      "|twinkle twinkle l...|\n",
      "|how I wonder what...|\n",
      "|up above the worl...|\n",
      "|like a diamond in...|\n",
      "|twinkle twinkle l...|\n",
      "|how I wonder what...|\n",
      "|up above the worl...|\n",
      "|like a diamond in...|\n",
      "+--------------------+\n",
      "only showing top 20 rows\n",
      "\n"
     ]
    }
   ],
   "source": [
    "f = spark.read.text(\"/data/text/twinkle/100M.data\")\n",
    "print (f.count())\n",
    "f.show()"
   ]
  },
  {
   "cell_type": "markdown",
   "metadata": {},
   "source": [
    "## Inspect Job Details\n",
    "How many tasks were allocated to the latest job?  Can you figure out why?\n",
    "Hint : get number of partitions"
   ]
  },
  {
   "cell_type": "code",
   "execution_count": 5,
   "metadata": {
    "collapsed": true
   },
   "outputs": [
    {
     "data": {
      "text/plain": [
       "2"
      ]
     },
     "execution_count": 5,
     "metadata": {},
     "output_type": "execute_result"
    }
   ],
   "source": [
    "f.rdd.getNumPartitions()"
   ]
  },
  {
   "cell_type": "markdown",
   "metadata": {},
   "source": [
    "## Save filtered data"
   ]
  },
  {
   "cell_type": "code",
   "execution_count": 6,
   "metadata": {
    "collapsed": true
   },
   "outputs": [],
   "source": [
    "f = spark.read.text(\"/data/text/twinkle/100M.data\")\n",
    "filtered = f.filter(f[\"value\"].contains(\"twinkle\"))\n",
    "filtered.write.text(\"out2\")"
   ]
  },
  {
   "cell_type": "markdown",
   "metadata": {},
   "source": [
    "As the program is running checkout spark console (where you started Jupyter from).\n",
    "You will see output like this\n",
    "\n",
    "[Stage 16:==========================>                             (15 + 4) / 32]\n",
    "\n",
    "Also inspect 'out' directory.\n",
    "What do you see?"
   ]
  },
  {
   "cell_type": "markdown",
   "metadata": {},
   "source": [
    "## Bonus Lab : Merging multiple partitions into ONE\n",
    "When we saved data in the above section, there are multiple files created in output directory. Can you just create one output file?\n",
    "\n",
    "Hint : see the API for `coalesce` or `repartition`"
   ]
  }
 ],
 "metadata": {
  "kernelspec": {
   "display_name": "Python 3",
   "language": "python",
   "name": "python3"
  },
  "language_info": {
   "codemirror_mode": {
    "name": "ipython",
    "version": 3
   },
   "file_extension": ".py",
   "mimetype": "text/x-python",
   "name": "python",
   "nbconvert_exporter": "python",
   "pygments_lexer": "ipython3",
   "version": "3.6.8"
  }
 },
 "nbformat": 4,
 "nbformat_minor": 2
}
